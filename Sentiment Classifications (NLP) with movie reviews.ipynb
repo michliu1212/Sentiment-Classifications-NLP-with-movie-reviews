{
 "cells": [
  {
   "cell_type": "markdown",
   "metadata": {
    "colab_type": "text",
    "id": "8DrR5AHfgwmZ"
   },
   "source": [
    "# Sentiment classification\n",
    "The task of classifying sentiments of texts (for example movie or product reviews) has high practical significance in online marketing as well as financial prediction. This is a non-trivial task, since the concept of sentiment is not easily captured.\n",
    "\n",
    "I will be using the data from the larger IMDB sentiment benchmark dataset from Stanford, an achieve close to state of the art results.\n",
    "\n",
    "I will use the following models in ascending complexity, namely:\n",
    "\n",
    "TFIDF + classical statistical model (eg. RandomForest)\n",
    "LSTM classification model\n",
    "LSTM model, where the embeddings are initialized with pre-trained GloVe vectors\n",
    "fastText model\n",
    "BERT based model (you are advised to use a pre-trained one and finetune, since the resource consumption is considerable!)\n",
    "\n",
    "\n"
   ]
  },
  {
   "cell_type": "markdown",
   "metadata": {
    "colab_type": "text",
    "id": "rJ01s1EsU1Z1"
   },
   "source": [
    "# Import data and libraries"
   ]
  },
  {
   "cell_type": "code",
   "execution_count": 1,
   "metadata": {
    "colab": {
     "base_uri": "https://localhost:8080/",
     "height": 230
    },
    "colab_type": "code",
    "id": "gEwjTzd8rqjR",
    "outputId": "2b2081de-fc79-4185-98e5-3111f63a5c8f"
   },
   "outputs": [
    {
     "name": "stdout",
     "output_type": "stream",
     "text": [
      "--2019-12-21 07:53:28--  https://ai.stanford.edu/~amaas/data/sentiment/aclImdb_v1.tar.gz\n",
      "Resolving ai.stanford.edu (ai.stanford.edu)... 171.64.68.10\n",
      "Connecting to ai.stanford.edu (ai.stanford.edu)|171.64.68.10|:443... connected.\n",
      "HTTP request sent, awaiting response... 200 OK\n",
      "Length: 84125825 (80M) [application/x-gzip]\n",
      "Saving to: ‘aclImdb_v1.tar.gz’\n",
      "\n",
      "aclImdb_v1.tar.gz   100%[===================>]  80.23M  66.8MB/s    in 1.2s    \n",
      "\n",
      "2019-12-21 07:53:29 (66.8 MB/s) - ‘aclImdb_v1.tar.gz’ saved [84125825/84125825]\n",
      "\n",
      "aclImdb  aclImdb_v1.tar.gz  sample_data\n"
     ]
    }
   ],
   "source": [
    "!wget https://ai.stanford.edu/~amaas/data/sentiment/aclImdb_v1.tar.gz\n",
    "!tar -xzf aclImdb_v1.tar.gz\n",
    "!ls"
   ]
  },
  {
   "cell_type": "code",
   "execution_count": 2,
   "metadata": {
    "colab": {
     "base_uri": "https://localhost:8080/",
     "height": 116
    },
    "colab_type": "code",
    "id": "nHNVWUXnaRlo",
    "outputId": "2934e192-a1eb-4c2c-93e2-ec40c5d78223"
   },
   "outputs": [
    {
     "name": "stdout",
     "output_type": "stream",
     "text": [
      "[nltk_data] Downloading package stopwords to /root/nltk_data...\n",
      "[nltk_data]   Unzipping corpora/stopwords.zip.\n"
     ]
    },
    {
     "data": {
      "text/html": [
       "<p style=\"color: red;\">\n",
       "The default version of TensorFlow in Colab will soon switch to TensorFlow 2.x.<br>\n",
       "We recommend you <a href=\"https://www.tensorflow.org/guide/migrate\" target=\"_blank\">upgrade</a> now \n",
       "or ensure your notebook will continue to use TensorFlow 1.x via the <code>%tensorflow_version 1.x</code> magic:\n",
       "<a href=\"https://colab.research.google.com/notebooks/tensorflow_version.ipynb\" target=\"_blank\">more info</a>.</p>\n"
      ],
      "text/plain": [
       "<IPython.core.display.HTML object>"
      ]
     },
     "metadata": {
      "tags": []
     },
     "output_type": "display_data"
    }
   ],
   "source": [
    "%reload_ext autoreload\n",
    "%autoreload 2\n",
    "%matplotlib inline\n",
    "\n",
    "import nltk\n",
    "from sklearn.datasets import load_files\n",
    "nltk.download('stopwords')\n",
    "import pickle\n",
    "from nltk.corpus import stopwords\n",
    "from glob import glob\n",
    "import numpy as np\n",
    "import os,re,string\n",
    "import tensorflow as tf\n",
    "import matplotlib.pyplot as plt\n",
    "import pandas as pd\n",
    "from zipfile import ZipFile\n",
    "import warnings\n",
    "warnings.filterwarnings('ignore')\n",
    "from sklearn.feature_extraction.text import CountVectorizer\n",
    "from sklearn.feature_extraction.text import TfidfVectorizer\n",
    "from sklearn.feature_selection import SelectKBest\n",
    "from sklearn.feature_selection import f_classif\n",
    "from tensorflow.python.keras import models\n",
    "from tensorflow.python.keras.layers import Dense\n",
    "from tensorflow.python.keras.layers import Dropout\n",
    "from tensorflow.keras.preprocessing.text import Tokenizer\n",
    "from tensorflow.keras.preprocessing.sequence import pad_sequences\n",
    "from tensorflow.keras.models import Sequential\n",
    "from tensorflow.keras.layers import LSTM, Dense, Dropout, Embedding\n"
   ]
  },
  {
   "cell_type": "code",
   "execution_count": 3,
   "metadata": {
    "colab": {
     "base_uri": "https://localhost:8080/",
     "height": 444
    },
    "colab_type": "code",
    "id": "BQ5kmkBWbUdz",
    "outputId": "8ec4c28b-4447-470f-c930-415842e32b70"
   },
   "outputs": [
    {
     "name": "stdout",
     "output_type": "stream",
     "text": [
      "imdbEr.txt  imdb.vocab\tREADME\ttest  train\n",
      "labeledBow.feat  pos\tunsupBow.feat  urls_pos.txt\n",
      "neg\t\t unsup\turls_neg.txt   urls_unsup.txt\n",
      "0_9.txt\n",
      "10000_8.txt\n",
      "10001_10.txt\n",
      "10002_7.txt\n",
      "10003_8.txt\n",
      "10004_8.txt\n",
      "10005_7.txt\n",
      "10006_7.txt\n",
      "10007_7.txt\n",
      "10008_7.txt\n",
      "labeledBow.feat  neg  pos  urls_neg.txt  urls_pos.txt\n",
      "0_10.txt\n",
      "10000_7.txt\n",
      "10001_9.txt\n",
      "10002_8.txt\n",
      "10003_8.txt\n",
      "10004_9.txt\n",
      "10005_8.txt\n",
      "10006_7.txt\n",
      "10007_10.txt\n",
      "10008_8.txt\n"
     ]
    }
   ],
   "source": [
    "PATH='aclImdb/'\n",
    "names = ['neg','pos']\n",
    "!ls {PATH}\n",
    "!ls {PATH}train\n",
    "!ls {PATH}train/pos | head\n",
    "\n",
    "#Similar for the test folder\n",
    "!ls {PATH}test\n",
    "!ls {PATH}test/pos | head"
   ]
  },
  {
   "cell_type": "code",
   "execution_count": 0,
   "metadata": {
    "colab": {},
    "colab_type": "code",
    "id": "Wu1ISqGUdpbx"
   },
   "outputs": [],
   "source": [
    "def load_texts_labels_from_folders(path, folders):\n",
    "    texts,labels = [],[]\n",
    "    for idx,label in enumerate(folders):\n",
    "        for fname in glob(os.path.join(path, label, '*.*')):\n",
    "            texts.append(open(fname, 'r').read())\n",
    "            labels.append(idx)\n",
    "    # stored as np.int8 to save space \n",
    "    return texts, np.array(labels).astype(np.int8)\n",
    "\n",
    "train_X,train_y = load_texts_labels_from_folders(f'{PATH}train',names)\n",
    "val_X,val_y = load_texts_labels_from_folders(f'{PATH}test',names)\n"
   ]
  },
  {
   "cell_type": "code",
   "execution_count": 0,
   "metadata": {
    "colab": {},
    "colab_type": "code",
    "id": "1n8Bs1y_gCh9"
   },
   "outputs": [],
   "source": [
    "# split to valid and testing set\n",
    "from sklearn.model_selection import train_test_split\n",
    "val_X, test_X, val_y, test_y = train_test_split(\n",
    "   val_X, val_y , test_size=0.5, random_state=42)"
   ]
  },
  {
   "cell_type": "markdown",
   "metadata": {
    "colab_type": "text",
    "id": "QvrXuesBU926"
   },
   "source": [
    "# EDA"
   ]
  },
  {
   "cell_type": "code",
   "execution_count": 0,
   "metadata": {
    "colab": {
     "base_uri": "https://localhost:8080/",
     "height": 35
    },
    "colab_type": "code",
    "id": "1aRRj0ltfFqS",
    "outputId": "d704a800-3569-4c7c-de79-be15be1688d3"
   },
   "outputs": [
    {
     "data": {
      "text/plain": [
       "(25000, 25000, 12500, 12500, 12500, 12500)"
      ]
     },
     "execution_count": 7,
     "metadata": {
      "tags": []
     },
     "output_type": "execute_result"
    }
   ],
   "source": [
    "len(train_X),len(train_y),len(val_X),len(val_y), len(test_X), len(test_y)"
   ]
  },
  {
   "cell_type": "markdown",
   "metadata": {
    "colab_type": "text",
    "id": "NTFKM_ANTnE5"
   },
   "source": [
    "We have 25K samples in each train and test sets"
   ]
  },
  {
   "cell_type": "code",
   "execution_count": 0,
   "metadata": {
    "colab": {
     "base_uri": "https://localhost:8080/",
     "height": 88
    },
    "colab_type": "code",
    "id": "52qJpnYaSc8V",
    "outputId": "0d6c39eb-9775-4282-d9ec-d31c4ec54b71"
   },
   "outputs": [
    {
     "name": "stdout",
     "output_type": "stream",
     "text": [
      "Unique classes : [0 1]\n",
      "Number of unique classes :  2\n",
      "Counts for class  0  :  12500\n",
      "Counts for class  1  :  12500\n"
     ]
    }
   ],
   "source": [
    "uniq_class_arr, counts = np.unique(train_y, return_counts=True)\n",
    "print ('Unique classes :', uniq_class_arr)\n",
    "print ('Number of unique classes : ', len(uniq_class_arr))\n",
    "\n",
    "for _class in uniq_class_arr:\n",
    "    print ('Counts for class ', uniq_class_arr[_class], ' : ', counts[_class])\n"
   ]
  },
  {
   "cell_type": "markdown",
   "metadata": {
    "colab_type": "text",
    "id": "OfM1Abi4Tj5f"
   },
   "source": [
    "We have 2 classes as we divided them, one for positive 1 and one for negetive 0"
   ]
  },
  {
   "cell_type": "code",
   "execution_count": 0,
   "metadata": {
    "colab": {
     "base_uri": "https://localhost:8080/",
     "height": 392
    },
    "colab_type": "code",
    "id": "lqxuQNbxTsd1",
    "outputId": "b7e1bc33-a066-49a1-c118-bb3297c07a8a"
   },
   "outputs": [
    {
     "name": "stdout",
     "output_type": "stream",
     "text": [
      "The world of the Dragon Hunters is a 3D gravity challenged world. Planetoids, bits of buildings and strange flat plants float around in the atmosphere while the ground towards most of the characters are falling is nowhere to be seen. It is a world reminiscent of Neverending Story, when the Nothing came to eat the world away.<br /><br />Funny enough, the villain here is the World Gobbler, as well. This time it is a huge skeleton dragon with fiery eyes. The heroes are a big yet taciturn warrior, an annoying and greedy sidekick managing the entrepreneurial side of the duo and a strange useless animal. They are joined by the most talkative little girl in the world who, to my chagrin, did not die a horrible painful and hopefully early death.<br /><br />The animation is great. The voices and the sounds are top notch. Too bad the story is as simple as one can possibly imagine. They go to stop the World Gobbler, they reach him almost immediately, they defeat him. The end. No real character development or story twists. Not even the ones I would expect from a movie with such a plot.<br /><br />Bottom line: it's a cute thing to watch, kids would probably enjoy it, but that's about it. No depth to this world (pun intended). || 1\n",
      "----------------------------------------------------------------------------------------------------------------------------------------------------------------------------\n",
      "This was a favorite of my childhood - I can remember seeing it on television and thrilling to it each time. Now that I'm grown up and have a kid of my own, I wanted to introduce him to this classic movie. We watched it last Friday, and he liked it. During Abu's fight with the giant spider, my son's hand crept over and took hold of mine - he was genuinely scared. \"Is he gonna beat the spider, Poppa?\" Just watch, you'll see. He has no historical frame of reference to speak of (eight years old), so Bagdad under the grandson of Haroun al-Raschid might as well be Oz under Ozma.<br /><br />I think he especially liked how much of the heroics and derring-do were perpetrated by the boy-thief, and not the grown-up king. In fact, if you deconstruct the film's narrative a bit, the king is the thief's sidekick, not the hero at all - which must be very satisfying to imaginative, adventurous young boys. <br /><br />It's definitely a period piece - I suspect that by the time he's eleven or twelve, my son will find it 'corny' or whatever word the next generation will be using by then. The love story is barely one-dimensional - as a cynical friend commented, \"Why does Ahmad love the Princess? Because the narrative demands it.\" The willingness of Abu to put himself in jeopardy (repeatedly) for the clueless, love-struck deposed king is equally improbable. But to quibble about such things while accepting flying mechanical horses, fifty-foot genies and the Temple of the All-Seeing Eye would be fatuous in the extreme. The satisfaction of seeing the prophecy fulfilled at the movie's climax is tremendous, as is the final shot of Abu triumphantly flying away on his (stolen) magic carpet, seeking \"some fun, and adventure at last!\" || 1\n",
      "----------------------------------------------------------------------------------------------------------------------------------------------------------------------------\n",
      "Just finished watching this movie for maybe the 7th or 8th time, picked it up one night previously viewed at Blockbuster and absolutely loved it, I've shown it to 4 people so far and they have enjoyed it as well. Avoid of all the Hollywood glamour, special effects and stress on the \"shock factor\", this independent film by Paul F. Ryan hits the nail on the head in dealing with the after affects of traumatic situations. Taking place after a high school shooting, two characters Alicia (Busy Philipps) and Deanna (Erika Christensen) form an unlikely bond. Alicia, the girl with the stone heart, the Goth who has a pessimistic attitude to life assists Deanna to overcome the issues of life and death and living in the aftermath. Meanwhile Deanna attempts to help Alicia to see some of the softness and light in the world again. Not stressing on the shocking event of the shooting, but on the interpersonal relationships amongst those who survived it sets this movie apart. Despite its low-budget and short filming time, this movie is far from cheesy. Ryan pays respect to a situation he has never endured and attempts to delve into the human psyche. With an amazing up and coming actress, Philipps, adds the necessary dramatics to the dialogue and overall feel for the film and Christensen helps to balance out the \"doom and gloom\" feeling this movie may have. Overall, I recommend this movie and if you enjoy the topic of school aggression and violence and learning more about it, I also suggest the documentary \"It's a Girls World\" put out by CBC in 2004, which deals with the topic of social bullying, comparing and contrasting two groups of girls one in Montreal, Quebec and the other in Victoria, British Columbia, the group of friends and acquaintances of Dawn Marie Wellesley a 14 year old girl who killed herself after being brutally bullied. || 1\n",
      "----------------------------------------------------------------------------------------------------------------------------------------------------------------------------\n",
      "A sentimental school drama set in Denmark, 1969, \"We Shall Overcome\" offers a pathetic Danish take on US culture. Frits (Janus Dissing Rathke), a flower-power obsessed, naive 13-year-old, exits with half his ear hanging off from brutal master Lindum-Svendsen's (Bent Mejding) office. Lindum-Svendsen, a school director, portrayed as a fascistoid tyrant, has the local community in control. Lindum-Svendsen's gone too far this time, and with his father, recovering from a mental breakdown (sure, there wasn't enough drama already..), and overly stereotyped hippie music teacher Mr Svale ('Hi, call me Freddie'), Frits stands up for justice.<br /><br />Tell you what. It's so unconvincing, over-(method-)acted, and so full of misery, that as a 'family' picture this grotesque -filled with cliché's- excuse for a movie fails miserably to convince non-Scandinavian audiences. Sorry, kind danish readers, to crash like this into your sentimental journeys.. But it's definitely NOT a tale about a 'boy becoming a man by fighting the system'. The boy never becomes a man, but rather remains a naive, big eyed cry-face. If you call a church of small minded small town folk, led by a dictator like cartoonish character \"the system\", I'm sorry if I'm missing something.<br /><br />If you're into family pictures, go see Happy Feet instead.. || 0\n",
      "----------------------------------------------------------------------------------------------------------------------------------------------------------------------------\n",
      "I loved watching ''Sea Hunt '' back in the day , I was in grammar school and would get home do my homework and by 4:30 would be ready to watch ''Sea Hunt '' and Mike Nelson in his underwater adventures .I loved it ! He took to you a place not very accessible at that time , under the great blue sea . Pre ''Thunderball '' or even before Cousteau became common , there was Mike Nelson sparking the imagination of kids .I'd be willing to wager that more than a few kids developed their passion for oceanography or biology or one of the sciences from watching this show .Underwater photography also progressed , the fascination for exploration is easily stimulated thru watching this show . Watch and enjoy !!! || 1\n",
      "----------------------------------------------------------------------------------------------------------------------------------------------------------------------------\n",
      "The sects that capitalise on this film are well known for their claim to take the 'message' of the bible without any alteration or extra-biblical influence. The existence of this film is solely due to the fact that there is no such thing.<br /><br />If you want to know what the born-again branch of Christianity were harping on about in the seventies just look up the word 'rapture' in a dictionary of cults and sects. It's quicker than sitting through this waste of celluloid.<br /><br />Poor acting, uneven sound quality and a script that could just as easily have been written by Jack T Chick (paranoid Christian conspiracy theorist for those not familiar with the Evangelical scene). You could not really put this into the 'so bad it's good' category so its only audience are either those with a pamphlet collection looking to branch out or the extremely paranoid. || 0\n",
      "----------------------------------------------------------------------------------------------------------------------------------------------------------------------------\n",
      "Whatever happened to Keaton is what I want to know.<br /><br />Actually I don't, I crawled away, heaving, thinking she must owe half the bookies in Vegas, or maybe not, maybe she was just brainwashed, blackmailed and bored to death. Rich enough to adopt a third-world country, she somehow had to star in yet another cookie-cut, cliché-ridden drool'athon, based on the same character-franchise she's been rehashing since 'Father of the Bride'('91). You'd think she's going head to head with Mr.Bean.<br /><br />(Spoilers) <br /><br />So hubby (Dax) get's fired by obnoxious son of boss, his mom (Keaton)leaves his dad after classic row, and crashes over with her own dog-show in tow, oh those little rascals. Hubby's got cold-feet for diaper-duty, wifey's clock a-ticking and hey, let's toss in a space-cadet as second house-guest for good measure, all in one day because that's so funny and original. Wife gets fed up and walks away, mom leaves dad for space-cadet and the couple makes up in time for closing credits, 86 very long minutes later.<br /><br />Now if you have to have a space-cadet, he can't be devious as well, he can't scheme some excuse for his stayover, and if mom leaves dad, she can't hop into a cab dressed as a pumpkin just because some scriptwriter agonized over how to cheer thing up. <br /><br />Plus that gag whereby they invite her in only to then discover she's got her canine entourage in the cab has got to be outlawed by now. And you only get one obnoxious 2-dimensional boss to denigrate. Another movie-killer would be the movie-script the space cadet is toiling away at, supposedly more lame than the actual one, again, dejas-ad-nausea.<br /><br />Liv Tyler doesn't seem happy here, her voice was weird at times, it had me wondering if they later had her redub some of it, and she's a smart one, she's handled great roles and we'll forgive her for Jersey Girl, it was disaster-prone, could happen to anyone. Dax Shepard was watchable and that's being generous considering the material.<br /><br />Personally, it's the director, the screenwriters and especially the producers that I would love to see tar'n'feathered before shipped to Guantanamo as playthings for the prisoners, and that's me keeping this 'lite'. || 0\n",
      "----------------------------------------------------------------------------------------------------------------------------------------------------------------------------\n",
      "Vic (Richard Dreyfuss) is a mob boss, leaving a mental institution, back to his world of gangsters. How can a director have a cast with Richard Dreyfuss, Ellen Barkin, Jeff Goldblum, Diane Lane (very gorgeous), Gabriel Byrne, Gregory Hines, Kyle MacLachlan, Burt Reynolds, Billy Idol and a make such a waste of time? This movie is a comedy that is not funny, having a constellation in the cast. My vote is four.<br /><br />Title (Brazil):' Prazer em Matar-te!' ('Pleasure in Killing You!')<br /><br /> || 0\n",
      "----------------------------------------------------------------------------------------------------------------------------------------------------------------------------\n",
      "This movie is mostly chase scenes and special effects. It is very weak on plot. Most of the computer talk was just mumbo-jumbo. I watched this because I was a big fan of the original War Games movie which was based mostly on computer fact and real computer terminology. This movie had none of that. Most of the computer scenes were not only impossible and highly unrealistic of real computers and networks, but just lame. It is like it was written by somebody who has no comprehension of real computers.<br /><br />The ripley game was lame and was essentially just an arcade game. No real hacking, so what was the point? Movie was boring. Lame sequel. || 0\n",
      "----------------------------------------------------------------------------------------------------------------------------------------------------------------------------\n",
      "This movie was excellent. I was not expecting it to live up to all the hype but it did. Like all the Bourne movies the action is fast paced, realistic and intense. If you liked the other two movies in the trilogy you will love this one also. The movie's plot is straightforward and there are no plot twists that are too unrealistic. OK, Julia Stiles character showing up in the Italian safe house was kind of far-fetched especially after what happened in Supremacy but it makes sense that she is the only character in \"Treadstone\" that Bourne knows, that does not want him dead and he could possibly trust and the only person to lead him in the right direction. The action is driven by characters and their reactions to what is happening all around them. The thing that I always loved about the Bourne movies is that Bourne can kick butt but when matched with people as good as he is the fights are struggles and he takes a lot of damage in them. They never treat the audience like idiots.<br /><br />All the actors were solid in their performances. I believe that Damon could play Bourne in his sleep and receives excellent support from Joan Allen reprising her role from Supremacy, David Strathairn and Scott Glenn. I recommend this film and the trilogy. I do miss Franka Potente though. || 1\n",
      "----------------------------------------------------------------------------------------------------------------------------------------------------------------------------\n"
     ]
    }
   ],
   "source": [
    "# check if the label are as expected \n",
    "size_of_samp = 10\n",
    "rand_samples_to_check = np.random.randint(len(train_X), size=size_of_samp)\n",
    "\n",
    "for samp_num in rand_samples_to_check:\n",
    "    print (train_X[samp_num], '||', train_y[samp_num])\n",
    "    print ('----------------------------------------------------------------------------------------------------------------------------------------------------------------------------')"
   ]
  },
  {
   "cell_type": "code",
   "execution_count": 0,
   "metadata": {
    "colab": {
     "base_uri": "https://localhost:8080/",
     "height": 370
    },
    "colab_type": "code",
    "id": "sI-NFI0VUF8R",
    "outputId": "cc5c28a6-5d41-4666-8458-339d16c203bd"
   },
   "outputs": [
    {
     "data": {
      "image/png": "[encoded data removed]",
      "text/plain": [
       "<Figure size 1080x360 with 1 Axes>"
      ]
     },
     "metadata": {
      "tags": []
     },
     "output_type": "display_data"
    }
   ],
   "source": [
    "# check the distribution of number of words in each review\n",
    "plt.figure(figsize=(15, 5))\n",
    "plt.hist([len(sample) for sample in list(train_X)], 60)\n",
    "plt.xlabel('Length of reviews')\n",
    "plt.ylabel('Number of review')\n",
    "plt.title('reviews length distribution')\n",
    "plt.show()"
   ]
  },
  {
   "cell_type": "code",
   "execution_count": 0,
   "metadata": {
    "colab": {
     "base_uri": "https://localhost:8080/",
     "height": 934
    },
    "colab_type": "code",
    "id": "AGRV8bOhVF54",
    "outputId": "a2a29e74-8193-4095-95fa-74fb69d653b5"
   },
   "outputs": [
    {
     "data": {
      "image/png": "[encoded data removed]",
      "text/plain": [
       "<Figure size 1080x1080 with 1 Axes>"
      ]
     },
     "metadata": {
      "tags": []
     },
     "output_type": "display_data"
    }
   ],
   "source": [
    "# check the most frequent words\n",
    "kwargs = {\n",
    "    'ngram_range' : (1, 1),\n",
    "    'dtype' : 'int32',\n",
    "    'strip_accents' : 'unicode',\n",
    "    'decode_error' : 'replace',\n",
    "    'analyzer' : 'word'\n",
    "}\n",
    "\n",
    "vectorizer = CountVectorizer(**kwargs)\n",
    "vect_texts = vectorizer.fit_transform(list(train_X))\n",
    "all_ngrams = vectorizer.get_feature_names()\n",
    "num_ngrams = min(50, len(all_ngrams))\n",
    "all_counts = vect_texts.sum(axis=0).tolist()[0]\n",
    "\n",
    "all_ngrams, all_counts = zip(*[(n, c) for c, n in sorted(zip(all_counts, all_ngrams), reverse=True)])\n",
    "ngrams = all_ngrams[:num_ngrams]\n",
    "counts = all_counts[:num_ngrams]\n",
    "\n",
    "idx = np.arange(num_ngrams)\n",
    "\n",
    "plt.figure(figsize=(15, 15))\n",
    "plt.bar(idx, counts, width=0.8)\n",
    "plt.xlabel('N-grams')\n",
    "plt.ylabel('Frequencies')\n",
    "plt.title('Frequency distribution of ngrams')\n",
    "plt.xticks(idx, ngrams, rotation=90)\n",
    "plt.show()\n"
   ]
  },
  {
   "cell_type": "markdown",
   "metadata": {
    "colab_type": "text",
    "id": "xmYnh-WpVYpU"
   },
   "source": [
    "The highest frequency words are the stop words. We will remove this in our anaylsis since it do not provide information to tell the sentiment of the reviews. "
   ]
  },
  {
   "cell_type": "markdown",
   "metadata": {
    "colab_type": "text",
    "id": "rdoa2WCRY4_s"
   },
   "source": [
    "# Text Preprocessing"
   ]
  },
  {
   "cell_type": "markdown",
   "metadata": {
    "colab_type": "text",
    "id": "SdTBT_LA-YWP"
   },
   "source": [
    "Text may contain numbers, special characters, and unwanted spaces. I will remove all the special characters, numbers, and unwanted spaces from our text for easier understanding of the text.\n",
    "I use Regex Expressions from Python re library to perform different preprocessing tasks, like removing all non-word characters such as special characters, numbers, etc."
   ]
  },
  {
   "cell_type": "code",
   "execution_count": 22,
   "metadata": {
    "colab": {
     "base_uri": "https://localhost:8080/",
     "height": 70
    },
    "colab_type": "code",
    "id": "cMWLBTXAAjJl",
    "outputId": "f6165794-a5a3-47c4-e541-dc4d935524f9"
   },
   "outputs": [
    {
     "name": "stdout",
     "output_type": "stream",
     "text": [
      "[nltk_data] Downloading package wordnet to /root/nltk_data...\n",
      "[nltk_data]   Unzipping corpora/wordnet.zip.\n"
     ]
    },
    {
     "data": {
      "text/plain": [
       "True"
      ]
     },
     "execution_count": 22,
     "metadata": {
      "tags": []
     },
     "output_type": "execute_result"
    }
   ],
   "source": [
    "nltk.download('wordnet')"
   ]
  },
  {
   "cell_type": "code",
   "execution_count": 0,
   "metadata": {
    "colab": {},
    "colab_type": "code",
    "id": "FJjo23HO06To"
   },
   "outputs": [],
   "source": [
    "import nltk\n",
    "from nltk.tokenize import RegexpTokenizer\n",
    "from nltk.stem import WordNetLemmatizer,PorterStemmer\n",
    "lemmatizer = WordNetLemmatizer()\n",
    "stemmer = PorterStemmer() \n",
    "\n",
    "def preprocess_text(sen):\n",
    "    # Removing html tags\n",
    "    sentence = remove_tags(sen)\n",
    "\n",
    "    # Remove all the special characters\n",
    "    sentence = re.sub(r'\\W', ' ', sentence)\n",
    "    \n",
    "    # remove all single characters\n",
    "    sentence = re.sub(r'\\s+[a-zA-Z]\\s+', ' ', sentence)\n",
    "\n",
    "    # Remove single characters from the start\n",
    "    sentence = re.sub(r'\\^[a-zA-Z]\\s+', ' ', sentence) \n",
    "\n",
    "    # Remove punctuations and numbers\n",
    "    sentence = re.sub('[^a-zA-Z]', ' ', sentence)\n",
    "\n",
    "    # Single character removal\n",
    "    sentence = re.sub(r\"\\s+[a-zA-Z]\\s+\", ' ', sentence, flags=re.I)\n",
    "\n",
    "    # Removing multiple spaces\n",
    "    sentence = re.sub(r'\\s+', ' ', sentence)\n",
    "\n",
    "    # Converting to Lowercase\n",
    "    sentence = sentence.lower()\n",
    "\n",
    "    # Remove stopwords, get stem and lemma of words\n",
    "    tokenizer = RegexpTokenizer(r'\\w+')\n",
    "    sentence = tokenizer.tokenize(sentence) \n",
    "    sentence = [w for w in sentence if not w in stopwords.words('english')]\n",
    "\n",
    "    # stemmed and lematized the words\n",
    "    stem_words=[stemmer.stem(w) for w in sentence]\n",
    "    sentence=[lemmatizer.lemmatize(w) for w in stem_words]\n",
    "    return \" \".join(sentence)\n",
    "    #return sentence"
   ]
  },
  {
   "cell_type": "code",
   "execution_count": 0,
   "metadata": {
    "colab": {},
    "colab_type": "code",
    "id": "4VZ48jy-1SXJ"
   },
   "outputs": [],
   "source": [
    "TAG_RE = re.compile(r'<[^>]+>')\n",
    "#TAG_RE = re.sub(r'<[^>]+>')\n",
    "def remove_tags(text):\n",
    "    return TAG_RE.sub('', text)"
   ]
  },
  {
   "cell_type": "code",
   "execution_count": 26,
   "metadata": {
    "colab": {
     "base_uri": "https://localhost:8080/",
     "height": 52
    },
    "colab_type": "code",
    "id": "0gkqntTJ1SXO",
    "outputId": "47da54b3-3af8-4a02-c666-b9095446780e"
   },
   "outputs": [
    {
     "name": "stdout",
     "output_type": "stream",
     "text": [
      "CPU times: user 10min 48s, sys: 1min 4s, total: 11min 53s\n",
      "Wall time: 11min 53s\n"
     ]
    }
   ],
   "source": [
    "%%time\n",
    "\n",
    "# preprocess our reviews and will store them in a new list \n",
    "train_X_processed = []\n",
    "sentences = train_X\n",
    "for sen in sentences:\n",
    "    train_X_processed.append(preprocess_text(sen))"
   ]
  },
  {
   "cell_type": "code",
   "execution_count": 27,
   "metadata": {
    "colab": {
     "base_uri": "https://localhost:8080/",
     "height": 52
    },
    "colab_type": "code",
    "id": "ilaiFLm2WWYP",
    "outputId": "6ff2619c-c2ba-4579-d3a8-c4facd1f64c6"
   },
   "outputs": [
    {
     "name": "stdout",
     "output_type": "stream",
     "text": [
      "CPU times: user 5min 17s, sys: 33 s, total: 5min 50s\n",
      "Wall time: 5min 50s\n"
     ]
    }
   ],
   "source": [
    "%%time\n",
    "val_X_processed = []\n",
    "sentences = val_X\n",
    "for sen in sentences:\n",
    "    val_X_processed.append(preprocess_text(sen))"
   ]
  },
  {
   "cell_type": "code",
   "execution_count": 28,
   "metadata": {
    "colab": {
     "base_uri": "https://localhost:8080/",
     "height": 52
    },
    "colab_type": "code",
    "id": "47eGNL56TjGp",
    "outputId": "bbe71b20-4246-4c2e-af6e-5f0437a9d7f8"
   },
   "outputs": [
    {
     "name": "stdout",
     "output_type": "stream",
     "text": [
      "CPU times: user 5min 18s, sys: 31.2 s, total: 5min 49s\n",
      "Wall time: 5min 49s\n"
     ]
    }
   ],
   "source": [
    "%%time\n",
    "test_X_processed = []\n",
    "sentences = test_X\n",
    "for sen in sentences:\n",
    "    test_X_processed.append(preprocess_text(sen))"
   ]
  },
  {
   "cell_type": "code",
   "execution_count": 29,
   "metadata": {
    "colab": {
     "base_uri": "https://localhost:8080/",
     "height": 55
    },
    "colab_type": "code",
    "id": "XAfb5TQ5VAFh",
    "outputId": "de8d8694-eb77-42b1-bdd5-2c16e15d2220"
   },
   "outputs": [
    {
     "data": {
      "text/plain": [
       "\"This is actually a pretty bad film. The ideology is not as perverse as in those films Collins made later. However, my main misgivings about the film are that it is implausible and quite frankly boring for a long time. The whole concept of an ex-SAS man joining terrorists for no particular reason isn't very convincing and you can't help wondering why a group of highly organized terrorists (who later become pretty clueless) fall for it. The film starts with a pretty powerful scene but then meanders for quite a long time building up towards the great finale. Overall, I think Who dares wins could have been an interesting 45 minutes episode of The Professionals but the story doesn't carry a feature film. Although reasonably successful at the time this film initiated the demise of Collins' career who in the eighties mainly made cheap and dubious soldier-of-fortune or army films. Pity, because he actually is quite a versatile actor but at the end of the day Martin Shaw chose his roles more carefully and has a career that's still successful.\""
      ]
     },
     "execution_count": 29,
     "metadata": {
      "tags": []
     },
     "output_type": "execute_result"
    }
   ],
   "source": [
    "train_X[0]"
   ]
  },
  {
   "cell_type": "code",
   "execution_count": 30,
   "metadata": {
    "colab": {
     "base_uri": "https://localhost:8080/",
     "height": 55
    },
    "colab_type": "code",
    "id": "LaEyL4LsNbbV",
    "outputId": "61a986b3-f7a7-4b0b-8843-4455167b0fe3"
   },
   "outputs": [
    {
     "data": {
      "text/plain": [
       "'actual pretti bad film ideolog pervers film collin made later howev main misgiv film implaus quit frankli bore long time whole concept ex sa man join terrorist particular reason convinc help wonder group highli organ terrorist later becom pretti clueless fall film start pretti power scene meander quit long time build toward great final overal think dare win could interest minut episod profession stori carri featur film although reason success time film initi demis collin career eighti mainli made cheap dubiou soldier fortun armi film piti actual quit versatil actor end day martin shaw chose role care career still success'"
      ]
     },
     "execution_count": 30,
     "metadata": {
      "tags": []
     },
     "output_type": "execute_result"
    }
   ],
   "source": [
    "train_X_processed[0]"
   ]
  },
  {
   "cell_type": "markdown",
   "metadata": {
    "colab_type": "text",
    "id": "Kt6GxcPzJZgc"
   },
   "source": [
    "# 1. TFIDF + classical statistical model (eg. RandomForest)"
   ]
  },
  {
   "cell_type": "markdown",
   "metadata": {
    "colab_type": "text",
    "id": "xmbPXiDM9e4d"
   },
   "source": [
    "## Motivation of the use of TFIDF\n",
    "\n",
    "TFIDF, short term for frequency–inverse document frequency, is a numerical statistic that is intended to reflect how important a word is to a document in a collection or corpus. \n",
    "\n",
    "TF-IDF(term) = TF(term in a document) * IDF(term)\n",
    "\n",
    "TF(term) = # of times the term appears in document / total # of terms in document\n",
    "- it measures how often a term shows up in a single document. If a term appears relatively frequently in a document, it is most likely an important term.\n",
    "\n",
    "IDF(term) = log(total # of documents / # of documents with term in it)\n",
    "- it tells us how important a term is to a collection of documents.\n",
    "\n",
    "The tf–idf value increases proportionally to the number of times a word appears in the document and is offset by the number of documents in the corpus that contain the word, which helps to adjust for the fact that some words appear more frequently in general, for example the stopwords. TF-IDF returns a vector per word per document based on frequency\n",
    "\n",
    "### Advantage \n",
    "- the process itself is intuitive and its vectors are interpretable. For instance, the TF-IDF of a word can be calculated using a simple formula, and each vector is just a list of word frequencies. \n",
    "\n",
    "### Drawbacks\n",
    "- language is far more complex than the individual words that compose it. Because TF-IDF acts solely on words, it is not as informative nor as powerful as a method like word2vec, which acts on sentences. "
   ]
  },
  {
   "cell_type": "markdown",
   "metadata": {
    "colab_type": "text",
    "id": "zp2iwWiO_VyN"
   },
   "source": [
    "### Converting Text to Numbers: Bag of Words"
   ]
  },
  {
   "cell_type": "markdown",
   "metadata": {
    "colab_type": "text",
    "id": "-H8QpOHl_cs7"
   },
   "source": [
    "it is required to convert our text into numbers. Different approaches exist to convert text into the corresponding numerical form. The Bag of Words Model and the Word Embedding Model are two of the most commonly used approaches and here I will use the bag of words model to convert our text to numbers.\n",
    "\n",
    "Parameters setting:\n",
    "\n",
    "- max_features: set to 1500. set the max_features parameter to 1500, which means that we want to use 1500 most occurring words as features for training our classifier.\n",
    "\n",
    "- min_df: set to 5. This corresponds to the minimum number of documents that should contain this feature. So we only include those words that occur in at least 5 documents. \n",
    "\n",
    "- stop_words=stopwords.words('english'): in the case of sentiment analysis, stop words may not contain any useful information. "
   ]
  },
  {
   "cell_type": "code",
   "execution_count": 0,
   "metadata": {
    "colab": {},
    "colab_type": "code",
    "id": "P7UiZx_I_OSE"
   },
   "outputs": [],
   "source": [
    "# Bag of Words: convert text documents into corresponding numerical features\n",
    "from sklearn.feature_extraction.text import CountVectorizer\n",
    "vectorizer = CountVectorizer(max_features=5000, min_df=5, max_df=0.7, stop_words=stopwords.words('english'))\n",
    "train_X_bow = vectorizer.fit_transform(train_X_processed).toarray()"
   ]
  },
  {
   "cell_type": "code",
   "execution_count": 0,
   "metadata": {
    "colab": {},
    "colab_type": "code",
    "id": "h9tzDTFKFPJp"
   },
   "outputs": [],
   "source": [
    "val_X_bow = vectorizer.fit_transform(val_X_processed).toarray()"
   ]
  },
  {
   "cell_type": "markdown",
   "metadata": {
    "colab_type": "text",
    "id": "WM8_GTG2B6bN"
   },
   "source": [
    "### Finding TFIDF"
   ]
  },
  {
   "cell_type": "markdown",
   "metadata": {
    "colab_type": "text",
    "id": "Zoj1RieNC354"
   },
   "source": [
    "Since the bag of words only count the occurence of the words, however, those words might be having high frequency of occurence in other docments as well. TFIDF resolve this issues by multiplting the term frequency of word by the inverse document frequency. \n",
    "\n",
    "The TFIDF value for a word in a particular document is higher if the frequency of occurrence of that word is higher in that specific document but lower in all the other documents."
   ]
  },
  {
   "cell_type": "code",
   "execution_count": 0,
   "metadata": {
    "colab": {},
    "colab_type": "code",
    "id": "3icXPOed_OX_"
   },
   "outputs": [],
   "source": [
    "from sklearn.feature_extraction.text import TfidfTransformer\n",
    "tfidfconverter = TfidfTransformer()\n",
    "train_X_tfidf = tfidfconverter.fit_transform(train_X_bow).toarray()"
   ]
  },
  {
   "cell_type": "code",
   "execution_count": 0,
   "metadata": {
    "colab": {},
    "colab_type": "code",
    "id": "58wuUeP_I4dE"
   },
   "outputs": [],
   "source": [
    "val_X_tfidf = tfidfconverter.fit_transform(val_X_bow).toarray()"
   ]
  },
  {
   "cell_type": "code",
   "execution_count": 84,
   "metadata": {
    "colab": {
     "base_uri": "https://localhost:8080/",
     "height": 35
    },
    "colab_type": "code",
    "id": "uJ4td_5dl8zl",
    "outputId": "e63d7237-251b-463f-9a96-cb37d40434bb"
   },
   "outputs": [
    {
     "data": {
      "text/plain": [
       "array([0., 0., 0., ..., 0., 0., 0.])"
      ]
     },
     "execution_count": 84,
     "metadata": {
      "tags": []
     },
     "output_type": "execute_result"
    }
   ],
   "source": [
    "val_X_tfidf[1]"
   ]
  },
  {
   "cell_type": "markdown",
   "metadata": {
    "colab_type": "text",
    "id": "vimCi3o3EY0E"
   },
   "source": [
    "### Training Random Forest Classification Model\n",
    "Random Forest, which is composed by combining multiple decision trees. While  dealing  with  the  single  tree  classifier  there  may  be  the problem of noise or outliers which may possibly affect the result of the overall classification method, whereas Random Forest is a  type  of  classifier  which  is  very  much  robust  to  noise  and outliers because of randomness it provides.\n",
    "\n",
    "Advantage of Random Forest Classifier\n",
    "- Robust: As   Random   Forest   uses   the   concept   of Bootstrapping, so each tree works on the  subset of the total training data, and due to that each tree is trained on the  different  value  of  training  data.  So  that  it  is  very much robust in terms of noise. \n",
    "- Accurate: Random  Forest  make  use  of  concept  of Bagging so that output of all decision classifier will be averaged,  as  there  is  a  logical  proof  that  when  infinite number of data is provided to a single classifier then the result  will  not  be  consistent,  whereas  if  those  data  is divided into number of classifier, then averaging of the result of those classifier will be consistent.\n",
    "\n",
    "Disadvantage\n",
    "- require long time to do hyperparameter tuning \n"
   ]
  },
  {
   "cell_type": "code",
   "execution_count": 85,
   "metadata": {
    "colab": {
     "base_uri": "https://localhost:8080/",
     "height": 52
    },
    "colab_type": "code",
    "id": "gMeWDIBh_OPa",
    "outputId": "2565276d-28b7-4630-fd9e-eb2207f1405c"
   },
   "outputs": [
    {
     "name": "stdout",
     "output_type": "stream",
     "text": [
      "CPU times: user 3min 15s, sys: 109 ms, total: 3min 15s\n",
      "Wall time: 3min 15s\n"
     ]
    }
   ],
   "source": [
    "%%time\n",
    "from sklearn.ensemble import RandomForestClassifier\n",
    "rf = RandomForestClassifier(n_estimators=400, random_state=0 )\n",
    "rf.fit(train_X_tfidf, train_y) "
   ]
  },
  {
   "cell_type": "code",
   "execution_count": 0,
   "metadata": {
    "colab": {},
    "colab_type": "code",
    "id": "GY2V3BOaGjCn"
   },
   "outputs": [],
   "source": [
    "y_pred = rf.predict(val_X_tfidf)"
   ]
  },
  {
   "cell_type": "markdown",
   "metadata": {
    "colab_type": "text",
    "id": "VCZ1hinmGTPW"
   },
   "source": [
    "### Evaluating the Model"
   ]
  },
  {
   "cell_type": "markdown",
   "metadata": {
    "colab_type": "text",
    "id": "_nLT6RG-GYyf"
   },
   "source": [
    "To evaluate the performance of a classification model, I will use confusion matrix, F1 measure, and accuracy. "
   ]
  },
  {
   "cell_type": "code",
   "execution_count": 87,
   "metadata": {
    "colab": {
     "base_uri": "https://localhost:8080/",
     "height": 230
    },
    "colab_type": "code",
    "id": "C-XBcwaf_ONP",
    "outputId": "87a62f63-67aa-4b48-aa12-232e547a6042"
   },
   "outputs": [
    {
     "name": "stdout",
     "output_type": "stream",
     "text": [
      "[[2290 3902]\n",
      " [1280 5028]]\n",
      "              precision    recall  f1-score   support\n",
      "\n",
      "           0       0.64      0.37      0.47      6192\n",
      "           1       0.56      0.80      0.66      6308\n",
      "\n",
      "    accuracy                           0.59     12500\n",
      "   macro avg       0.60      0.58      0.56     12500\n",
      "weighted avg       0.60      0.59      0.57     12500\n",
      "\n",
      "0.58544\n"
     ]
    }
   ],
   "source": [
    "from sklearn.metrics import classification_report, confusion_matrix, accuracy_score\n",
    "\n",
    "print(confusion_matrix(val_y,y_pred))\n",
    "print(classification_report(val_y,y_pred))\n",
    "print(accuracy_score(val_y, y_pred))"
   ]
  },
  {
   "cell_type": "markdown",
   "metadata": {
    "colab_type": "text",
    "id": "DlAf9sUZGsfq"
   },
   "source": [
    "Our model achieved an accuracy of 58.5% with randomly chose paramter. "
   ]
  },
  {
   "cell_type": "markdown",
   "metadata": {
    "colab_type": "text",
    "id": "ru6aj1h91aQx"
   },
   "source": [
    "### Try to improve accuracy by Hyperparameter tuning for Random Forest Classifier"
   ]
  },
  {
   "cell_type": "code",
   "execution_count": 0,
   "metadata": {
    "colab": {
     "base_uri": "https://localhost:8080/",
     "height": 55
    },
    "colab_type": "code",
    "id": "TXN5IDllYLx4",
    "outputId": "047ebd2c-f91b-4c48-d2aa-1cd1901ed497"
   },
   "outputs": [
    {
     "name": "stdout",
     "output_type": "stream",
     "text": [
      "{'n_estimators': [300, 377, 455, 533, 611, 688, 766, 844, 922, 1000], 'max_depth': [5, 26, 48, 70, 91, 113, 135, 156, 178, 200], 'max_features': <scipy.stats._distn_infrastructure.rv_frozen object at 0x7ff449b92710>, 'min_samples_split': <scipy.stats._distn_infrastructure.rv_frozen object at 0x7ff449b92320>, 'bootstrap': [True, False], 'criterion': ['gini', 'entropy']}\n"
     ]
    }
   ],
   "source": [
    "from sklearn.model_selection import RandomizedSearchCV\n",
    "from scipy.stats import randint as sp_randint\n",
    "from sklearn.ensemble import RandomForestClassifier\n",
    "# Number of trees in random forest\n",
    "n_estimators = [int(x) for x in np.linspace(300, 1000, num = 10)]\n",
    "# Maximum number of levels in tree\n",
    "max_depth = [int(x) for x in np.linspace(5, 200, num = 10)]\n",
    "# Maximum number of features \n",
    "max_features = sp_randint(1, 11)\n",
    "# Minimum number of samples required to split a node\n",
    "min_samples_split = sp_randint(2, 11)\n",
    "# Method of selecting samples for training each tree\n",
    "bootstrap = [True, False]\n",
    "# Criterion\n",
    "criterion =  [\"gini\", \"entropy\"]\n",
    "# Create the random grid\n",
    "random_grid = {'n_estimators': n_estimators,\n",
    "               'max_depth': max_depth,\n",
    "               'max_features': max_features,\n",
    "               'min_samples_split': min_samples_split,\n",
    "               #'min_samples_leaf': min_samples_leaf,\n",
    "               'bootstrap': bootstrap,\n",
    "               'criterion': criterion}\n",
    "print(random_grid)"
   ]
  },
  {
   "cell_type": "code",
   "execution_count": 0,
   "metadata": {
    "colab": {
     "base_uri": "https://localhost:8080/",
     "height": 1000
    },
    "colab_type": "code",
    "id": "Oty4zSgsYPqM",
    "outputId": "1a871f8c-fee0-4b3a-95f6-52c5c6b959e8"
   },
   "outputs": [
    {
     "name": "stdout",
     "output_type": "stream",
     "text": [
      "Fitting 3 folds for each of 10 candidates, totalling 30 fits\n",
      "[CV] bootstrap=True, criterion=entropy, max_depth=113, max_features=1, min_samples_split=5, n_estimators=533 \n"
     ]
    },
    {
     "name": "stderr",
     "output_type": "stream",
     "text": [
      "[Parallel(n_jobs=1)]: Using backend SequentialBackend with 1 concurrent workers.\n"
     ]
    },
    {
     "name": "stdout",
     "output_type": "stream",
     "text": [
      "[CV]  bootstrap=True, criterion=entropy, max_depth=113, max_features=1, min_samples_split=5, n_estimators=533, total=  21.2s\n",
      "[CV] bootstrap=True, criterion=entropy, max_depth=113, max_features=1, min_samples_split=5, n_estimators=533 \n"
     ]
    },
    {
     "name": "stderr",
     "output_type": "stream",
     "text": [
      "[Parallel(n_jobs=1)]: Done   1 out of   1 | elapsed:   21.2s remaining:    0.0s\n"
     ]
    },
    {
     "name": "stdout",
     "output_type": "stream",
     "text": [
      "[CV]  bootstrap=True, criterion=entropy, max_depth=113, max_features=1, min_samples_split=5, n_estimators=533, total=  21.1s\n",
      "[CV] bootstrap=True, criterion=entropy, max_depth=113, max_features=1, min_samples_split=5, n_estimators=533 \n",
      "[CV]  bootstrap=True, criterion=entropy, max_depth=113, max_features=1, min_samples_split=5, n_estimators=533, total=  21.2s\n",
      "[CV] bootstrap=False, criterion=entropy, max_depth=70, max_features=6, min_samples_split=4, n_estimators=611 \n",
      "[CV]  bootstrap=False, criterion=entropy, max_depth=70, max_features=6, min_samples_split=4, n_estimators=611, total= 1.1min\n",
      "[CV] bootstrap=False, criterion=entropy, max_depth=70, max_features=6, min_samples_split=4, n_estimators=611 \n",
      "[CV]  bootstrap=False, criterion=entropy, max_depth=70, max_features=6, min_samples_split=4, n_estimators=611, total= 1.1min\n",
      "[CV] bootstrap=False, criterion=entropy, max_depth=70, max_features=6, min_samples_split=4, n_estimators=611 \n",
      "[CV]  bootstrap=False, criterion=entropy, max_depth=70, max_features=6, min_samples_split=4, n_estimators=611, total= 1.1min\n",
      "[CV] bootstrap=False, criterion=gini, max_depth=178, max_features=9, min_samples_split=3, n_estimators=766 \n",
      "[CV]  bootstrap=False, criterion=gini, max_depth=178, max_features=9, min_samples_split=3, n_estimators=766, total= 2.1min\n",
      "[CV] bootstrap=False, criterion=gini, max_depth=178, max_features=9, min_samples_split=3, n_estimators=766 \n",
      "[CV]  bootstrap=False, criterion=gini, max_depth=178, max_features=9, min_samples_split=3, n_estimators=766, total= 2.1min\n",
      "[CV] bootstrap=False, criterion=gini, max_depth=178, max_features=9, min_samples_split=3, n_estimators=766 \n",
      "[CV]  bootstrap=False, criterion=gini, max_depth=178, max_features=9, min_samples_split=3, n_estimators=766, total= 2.0min\n",
      "[CV] bootstrap=False, criterion=entropy, max_depth=178, max_features=2, min_samples_split=7, n_estimators=1000 \n",
      "[CV]  bootstrap=False, criterion=entropy, max_depth=178, max_features=2, min_samples_split=7, n_estimators=1000, total= 1.6min\n",
      "[CV] bootstrap=False, criterion=entropy, max_depth=178, max_features=2, min_samples_split=7, n_estimators=1000 \n",
      "[CV]  bootstrap=False, criterion=entropy, max_depth=178, max_features=2, min_samples_split=7, n_estimators=1000, total= 1.6min\n",
      "[CV] bootstrap=False, criterion=entropy, max_depth=178, max_features=2, min_samples_split=7, n_estimators=1000 \n",
      "[CV]  bootstrap=False, criterion=entropy, max_depth=178, max_features=2, min_samples_split=7, n_estimators=1000, total= 1.6min\n",
      "[CV] bootstrap=False, criterion=gini, max_depth=200, max_features=5, min_samples_split=5, n_estimators=300 \n",
      "[CV]  bootstrap=False, criterion=gini, max_depth=200, max_features=5, min_samples_split=5, n_estimators=300, total=  38.3s\n",
      "[CV] bootstrap=False, criterion=gini, max_depth=200, max_features=5, min_samples_split=5, n_estimators=300 \n",
      "[CV]  bootstrap=False, criterion=gini, max_depth=200, max_features=5, min_samples_split=5, n_estimators=300, total=  38.5s\n",
      "[CV] bootstrap=False, criterion=gini, max_depth=200, max_features=5, min_samples_split=5, n_estimators=300 \n",
      "[CV]  bootstrap=False, criterion=gini, max_depth=200, max_features=5, min_samples_split=5, n_estimators=300, total=  38.6s\n",
      "[CV] bootstrap=False, criterion=entropy, max_depth=5, max_features=3, min_samples_split=5, n_estimators=922 \n",
      "[CV]  bootstrap=False, criterion=entropy, max_depth=5, max_features=3, min_samples_split=5, n_estimators=922, total=   7.5s\n",
      "[CV] bootstrap=False, criterion=entropy, max_depth=5, max_features=3, min_samples_split=5, n_estimators=922 \n",
      "[CV]  bootstrap=False, criterion=entropy, max_depth=5, max_features=3, min_samples_split=5, n_estimators=922, total=   7.3s\n",
      "[CV] bootstrap=False, criterion=entropy, max_depth=5, max_features=3, min_samples_split=5, n_estimators=922 \n",
      "[CV]  bootstrap=False, criterion=entropy, max_depth=5, max_features=3, min_samples_split=5, n_estimators=922, total=   7.4s\n",
      "[CV] bootstrap=False, criterion=entropy, max_depth=70, max_features=4, min_samples_split=9, n_estimators=300 \n",
      "[CV]  bootstrap=False, criterion=entropy, max_depth=70, max_features=4, min_samples_split=9, n_estimators=300, total=  25.7s\n",
      "[CV] bootstrap=False, criterion=entropy, max_depth=70, max_features=4, min_samples_split=9, n_estimators=300 \n",
      "[CV]  bootstrap=False, criterion=entropy, max_depth=70, max_features=4, min_samples_split=9, n_estimators=300, total=  25.6s\n",
      "[CV] bootstrap=False, criterion=entropy, max_depth=70, max_features=4, min_samples_split=9, n_estimators=300 \n",
      "[CV]  bootstrap=False, criterion=entropy, max_depth=70, max_features=4, min_samples_split=9, n_estimators=300, total=  25.8s\n",
      "[CV] bootstrap=False, criterion=entropy, max_depth=200, max_features=1, min_samples_split=6, n_estimators=844 \n",
      "[CV]  bootstrap=False, criterion=entropy, max_depth=200, max_features=1, min_samples_split=6, n_estimators=844, total= 1.4min\n",
      "[CV] bootstrap=False, criterion=entropy, max_depth=200, max_features=1, min_samples_split=6, n_estimators=844 \n",
      "[CV]  bootstrap=False, criterion=entropy, max_depth=200, max_features=1, min_samples_split=6, n_estimators=844, total= 1.4min\n",
      "[CV] bootstrap=False, criterion=entropy, max_depth=200, max_features=1, min_samples_split=6, n_estimators=844 \n",
      "[CV]  bootstrap=False, criterion=entropy, max_depth=200, max_features=1, min_samples_split=6, n_estimators=844, total= 1.4min\n",
      "[CV] bootstrap=False, criterion=gini, max_depth=48, max_features=8, min_samples_split=4, n_estimators=300 \n",
      "[CV]  bootstrap=False, criterion=gini, max_depth=48, max_features=8, min_samples_split=4, n_estimators=300, total=  33.4s\n",
      "[CV] bootstrap=False, criterion=gini, max_depth=48, max_features=8, min_samples_split=4, n_estimators=300 \n",
      "[CV]  bootstrap=False, criterion=gini, max_depth=48, max_features=8, min_samples_split=4, n_estimators=300, total=  33.6s\n",
      "[CV] bootstrap=False, criterion=gini, max_depth=48, max_features=8, min_samples_split=4, n_estimators=300 \n",
      "[CV]  bootstrap=False, criterion=gini, max_depth=48, max_features=8, min_samples_split=4, n_estimators=300, total=  33.3s\n",
      "[CV] bootstrap=True, criterion=gini, max_depth=113, max_features=6, min_samples_split=8, n_estimators=922 \n",
      "[CV]  bootstrap=True, criterion=gini, max_depth=113, max_features=6, min_samples_split=8, n_estimators=922, total= 1.4min\n",
      "[CV] bootstrap=True, criterion=gini, max_depth=113, max_features=6, min_samples_split=8, n_estimators=922 \n",
      "[CV]  bootstrap=True, criterion=gini, max_depth=113, max_features=6, min_samples_split=8, n_estimators=922, total= 1.3min\n",
      "[CV] bootstrap=True, criterion=gini, max_depth=113, max_features=6, min_samples_split=8, n_estimators=922 \n",
      "[CV]  bootstrap=True, criterion=gini, max_depth=113, max_features=6, min_samples_split=8, n_estimators=922, total= 1.3min\n"
     ]
    },
    {
     "name": "stderr",
     "output_type": "stream",
     "text": [
      "[Parallel(n_jobs=1)]: Done  30 out of  30 | elapsed: 29.1min finished\n"
     ]
    },
    {
     "name": "stdout",
     "output_type": "stream",
     "text": [
      "--- 1931.1191902160645 seconds ---\n"
     ]
    }
   ],
   "source": [
    "import time\n",
    "start_time = time.time()\n",
    "# Use the random grid to search for best hyperparameters\n",
    "# First create the base model to tune\n",
    "rf = RandomForestClassifier()\n",
    "# Random search of parameters, using 3 fold cross validation, \n",
    "# search across 100 different combinations, and use all available cores\n",
    "rf_random = RandomizedSearchCV(estimator = rf, param_distributions = random_grid, n_iter = 10, cv = 3, verbose=2, random_state=0, n_jobs = 1)\n",
    "rf_random.fit(train_X_tfidf, train_y) \n",
    "print(\"--- %s seconds ---\" % (time.time() - start_time))"
   ]
  },
  {
   "cell_type": "code",
   "execution_count": 0,
   "metadata": {
    "colab": {
     "base_uri": "https://localhost:8080/",
     "height": 230
    },
    "colab_type": "code",
    "id": "fJ6z1f8-aNmU",
    "outputId": "f5b9896b-2c62-44bb-a6c8-ab9e32a7c715"
   },
   "outputs": [
    {
     "name": "stdout",
     "output_type": "stream",
     "text": [
      "[[6673 5827]\n",
      " [4195 8305]]\n",
      "              precision    recall  f1-score   support\n",
      "\n",
      "           0       0.61      0.53      0.57     12500\n",
      "           1       0.59      0.66      0.62     12500\n",
      "\n",
      "    accuracy                           0.60     25000\n",
      "   macro avg       0.60      0.60      0.60     25000\n",
      "weighted avg       0.60      0.60      0.60     25000\n",
      "\n",
      "0.59912\n"
     ]
    }
   ],
   "source": [
    "from sklearn.metrics import classification_report, confusion_matrix, accuracy_score\n",
    "y_pred = rf_random.predict(val_X_tfidf)\n",
    "print(confusion_matrix(val_y,y_pred))\n",
    "print(classification_report(val_y,y_pred))\n",
    "print(accuracy_score(val_y, y_pred))"
   ]
  },
  {
   "cell_type": "markdown",
   "metadata": {
    "colab_type": "text",
    "id": "j-VnSoSp0cxw"
   },
   "source": [
    "Random forest classifier had achieved 60% accuracy. \n",
    "\n",
    "### Why random forest classifer didn't perform well?\n",
    "Previous research shows that Random Forest classifier can reach 87% in sentiment analysis, however,  tuning  of hyperparameters  in  random  forest  needs  a  special  attention because they are required to be tuned manually so it is very time consuming and complex. To reach a better accuracy, it will require more time for hyperparameter tuning. \n"
   ]
  },
  {
   "cell_type": "markdown",
   "metadata": {
    "colab_type": "text",
    "id": "qNMiDSb9Jftw"
   },
   "source": [
    "# 2. LSTM classification model\n"
   ]
  },
  {
   "cell_type": "markdown",
   "metadata": {
    "colab_type": "text",
    "id": "e6V7Y5NKisiy"
   },
   "source": [
    "Advantage of using LSTM as sentiment analysis\n",
    "- The main advantage of this network is that it is able to remember the sequence of past data i.e. words in our case in order to make a decision on the sentiment of the word.\n",
    "Hopefully, we deep learning model, the accuracy level will be improved!"
   ]
  },
  {
   "cell_type": "markdown",
   "metadata": {
    "colab_type": "text",
    "id": "QnRFXCyaDl8Y"
   },
   "source": [
    "### Preparing the Embedding Layer"
   ]
  },
  {
   "cell_type": "markdown",
   "metadata": {
    "colab_type": "text",
    "id": "of7mx1bVDuOg"
   },
   "source": [
    "As a first step, we will use the Tokenizer class from the keras.preprocessing.text module to create a word-to-index dictionary. In the word-to-index dictionary, each word in the corpus is used as a key, while a corresponding unique index is used as the value for the key."
   ]
  },
  {
   "cell_type": "code",
   "execution_count": 0,
   "metadata": {
    "colab": {},
    "colab_type": "code",
    "id": "4gmvP-emDkSQ"
   },
   "outputs": [],
   "source": [
    "tokenizer = Tokenizer(num_words=5000)\n",
    "# cut texts after this number of words (among top max_features most common words)\n",
    "\n",
    "tokenizer.fit_on_texts(train_X_processed)\n",
    "\n",
    "X_train = tokenizer.texts_to_sequences(train_X_processed)\n",
    "X_val = tokenizer.texts_to_sequences(val_X_processed)\n",
    "X_test = tokenizer.texts_to_sequences(test_X_processed)"
   ]
  },
  {
   "cell_type": "code",
   "execution_count": 0,
   "metadata": {
    "colab": {},
    "colab_type": "code",
    "id": "9dfMJTLVDj_D"
   },
   "outputs": [],
   "source": [
    "from keras.preprocessing import sequence\n",
    "# Adding 1 because of reserved 0 index\n",
    "vocab_size = len(tokenizer.word_index) + 1\n",
    "\n",
    "# set the maximum size of each list to 100\n",
    "maxlen = 100\n",
    "\n",
    "X_train_ = sequence.pad_sequences(X_train, padding='post', maxlen=maxlen)\n",
    "X_val_ = sequence.pad_sequences(X_val, padding='post', maxlen=maxlen)\n",
    "X_test_ = sequence.pad_sequences(X_test, padding='post', maxlen=maxlen)"
   ]
  },
  {
   "cell_type": "markdown",
   "metadata": {
    "colab_type": "text",
    "id": "qNBncXd4iVzn"
   },
   "source": [
    "### Create and train LSTM model"
   ]
  },
  {
   "cell_type": "code",
   "execution_count": 0,
   "metadata": {
    "colab": {},
    "colab_type": "code",
    "id": "ArtFz5zXLNe4"
   },
   "outputs": [],
   "source": [
    "from keras import backend as K\n",
    "K.clear_session()\n",
    "\n",
    "model = Sequential()\n",
    "model.add(Embedding(vocab_size, 128, input_length=maxlen))\n",
    "model.add(LSTM(128, dropout=0.2, recurrent_dropout=0.2))\n",
    "model.add(Dense(1, activation='sigmoid'))"
   ]
  },
  {
   "cell_type": "code",
   "execution_count": 38,
   "metadata": {
    "colab": {
     "base_uri": "https://localhost:8080/",
     "height": 284
    },
    "colab_type": "code",
    "id": "SvvV6_sSLVla",
    "outputId": "1ed2c235-1ae7-4ea8-8806-544478ca2c3d"
   },
   "outputs": [
    {
     "name": "stdout",
     "output_type": "stream",
     "text": [
      "Model: \"sequential\"\n",
      "_________________________________________________________________\n",
      "Layer (type)                 Output Shape              Param #   \n",
      "=================================================================\n",
      "embedding (Embedding)        (None, 100, 128)          6453248   \n",
      "_________________________________________________________________\n",
      "lstm (LSTM)                  (None, 128)               131584    \n",
      "_________________________________________________________________\n",
      "dense (Dense)                (None, 1)                 129       \n",
      "=================================================================\n",
      "Total params: 6,584,961\n",
      "Trainable params: 6,584,961\n",
      "Non-trainable params: 0\n",
      "_________________________________________________________________\n",
      "None\n"
     ]
    }
   ],
   "source": [
    "model.compile(optimizer='adam', loss='binary_crossentropy', metrics=['acc'])\n",
    "print(model.summary())"
   ]
  },
  {
   "cell_type": "code",
   "execution_count": 39,
   "metadata": {
    "colab": {
     "base_uri": "https://localhost:8080/",
     "height": 464
    },
    "colab_type": "code",
    "id": "f8OyiXhxP-yI",
    "outputId": "626c4479-e0df-4c7a-86ab-77d787607e84"
   },
   "outputs": [
    {
     "name": "stdout",
     "output_type": "stream",
     "text": [
      "Train on 25000 samples, validate on 12500 samples\n",
      "Epoch 1/10\n",
      "25000/25000 [==============================] - 42s 2ms/sample - loss: 0.5370 - acc: 0.7235 - val_loss: 0.4283 - val_acc: 0.8366\n",
      "Epoch 2/10\n",
      "25000/25000 [==============================] - 41s 2ms/sample - loss: 0.3793 - acc: 0.8606 - val_loss: 0.4709 - val_acc: 0.8326\n",
      "Epoch 3/10\n",
      "25000/25000 [==============================] - 41s 2ms/sample - loss: 0.3703 - acc: 0.8667 - val_loss: 0.4021 - val_acc: 0.8462\n",
      "Epoch 4/10\n",
      "25000/25000 [==============================] - 41s 2ms/sample - loss: 0.3372 - acc: 0.8785 - val_loss: 0.4039 - val_acc: 0.8455\n",
      "Epoch 5/10\n",
      "25000/25000 [==============================] - 41s 2ms/sample - loss: 0.3021 - acc: 0.8907 - val_loss: 0.3578 - val_acc: 0.8540\n",
      "Epoch 6/10\n",
      "25000/25000 [==============================] - 42s 2ms/sample - loss: 0.2744 - acc: 0.9017 - val_loss: 0.3772 - val_acc: 0.8547\n",
      "Epoch 7/10\n",
      "25000/25000 [==============================] - 41s 2ms/sample - loss: 0.2568 - acc: 0.9058 - val_loss: 0.3584 - val_acc: 0.8538\n",
      "Epoch 8/10\n",
      "25000/25000 [==============================] - 42s 2ms/sample - loss: 0.2414 - acc: 0.9131 - val_loss: 0.3824 - val_acc: 0.8478\n",
      "Epoch 9/10\n",
      "25000/25000 [==============================] - 41s 2ms/sample - loss: 0.2336 - acc: 0.9162 - val_loss: 0.4047 - val_acc: 0.8500\n",
      "Epoch 10/10\n",
      "25000/25000 [==============================] - 41s 2ms/sample - loss: 0.2125 - acc: 0.9247 - val_loss: 0.4100 - val_acc: 0.8491\n",
      "12500/12500 [==============================] - 16s 1ms/sample - loss: 0.4100 - acc: 0.8491\n",
      "CPU times: user 9min 47s, sys: 1min 2s, total: 10min 50s\n",
      "Wall time: 7min 11s\n"
     ]
    }
   ],
   "source": [
    "%%time\n",
    "#history = model.fit(X_train_, train_y, batch_size=128, epochs=10, verbose=1, validation_split=0.2)\n",
    "history = model.fit(X_train_, train_y, batch_size=128, epochs=10, verbose=1, validation_data=(X_val_, val_y))\n",
    "score = model.evaluate(X_val_, val_y, verbose=1)"
   ]
  },
  {
   "cell_type": "markdown",
   "metadata": {
    "colab_type": "text",
    "id": "jiAuEIdKR3gC"
   },
   "source": [
    "In the output, the validation accuracy is around 84%. The validation accuracy is better than random forest classifier. There are difference in te training accuray and validation accuray, so it means there is still overfitting problem. "
   ]
  },
  {
   "cell_type": "code",
   "execution_count": 40,
   "metadata": {
    "colab": {
     "base_uri": "https://localhost:8080/",
     "height": 52
    },
    "colab_type": "code",
    "id": "yqwYr8PWRBmw",
    "outputId": "5a95e210-ff82-4231-9946-49c22e11b438"
   },
   "outputs": [
    {
     "name": "stdout",
     "output_type": "stream",
     "text": [
      "Validation loss: 0.40995107192993163\n",
      "Validation Accuracy: 0.84912\n"
     ]
    }
   ],
   "source": [
    "print(\"Validation loss:\", score[0])\n",
    "print(\"Validation Accuracy:\", score[1])"
   ]
  },
  {
   "cell_type": "markdown",
   "metadata": {
    "colab_type": "text",
    "id": "afogMobWX05_"
   },
   "source": [
    "Validation accuracy has reached 85%.\n",
    "\n",
    "\n",
    "\n",
    "\n",
    "\n",
    "\n",
    "\n",
    "\n",
    "\n",
    "\n",
    "\n"
   ]
  },
  {
   "cell_type": "code",
   "execution_count": 41,
   "metadata": {
    "colab": {
     "base_uri": "https://localhost:8080/",
     "height": 573
    },
    "colab_type": "code",
    "id": "RozGncDjRNqA",
    "outputId": "0164926d-6227-4b31-d4bf-ff0c5edbd4f4"
   },
   "outputs": [
    {
     "data": {
      "image/png": "[encoded data removed]",
      "text/plain": [
       "<Figure size 432x288 with 1 Axes>"
      ]
     },
     "metadata": {
      "tags": []
     },
     "output_type": "display_data"
    },
    {
     "data": {
      "image/png": "[encoded data removed]",
      "text/plain": [
       "<Figure size 432x288 with 1 Axes>"
      ]
     },
     "metadata": {
      "tags": []
     },
     "output_type": "display_data"
    }
   ],
   "source": [
    "import matplotlib.pyplot as plt\n",
    "\n",
    "plt.plot(history.history['acc'])\n",
    "plt.plot(history.history['val_acc'])\n",
    "\n",
    "plt.title('model accuracy')\n",
    "plt.ylabel('accuracy')\n",
    "plt.xlabel('epoch')\n",
    "plt.legend(['train','val'], loc='upper left')\n",
    "plt.show()\n",
    "\n",
    "plt.plot(history.history['loss'])\n",
    "plt.plot(history.history['val_loss'])\n",
    "\n",
    "plt.title('model loss')\n",
    "plt.ylabel('loss')\n",
    "plt.xlabel('epoch')\n",
    "plt.legend(['train','val'], loc='upper left')\n",
    "plt.show()"
   ]
  },
  {
   "cell_type": "markdown",
   "metadata": {
    "colab_type": "text",
    "id": "27MzhTLWRabu"
   },
   "source": [
    "### Making Predictions on Single Instance"
   ]
  },
  {
   "cell_type": "code",
   "execution_count": 42,
   "metadata": {
    "colab": {
     "base_uri": "https://localhost:8080/",
     "height": 55
    },
    "colab_type": "code",
    "id": "7uOKMhrFRZmD",
    "outputId": "c3060e5b-46a6-40fc-f879-03e050ce3971"
   },
   "outputs": [
    {
     "name": "stdout",
     "output_type": "stream",
     "text": [
      "actual pretti bad film ideolog pervers film collin made later howev main misgiv film implaus quit frankli bore long time whole concept ex sa man join terrorist particular reason convinc help wonder group highli organ terrorist later becom pretti clueless fall film start pretti power scene meander quit long time build toward great final overal think dare win could interest minut episod profession stori carri featur film although reason success time film initi demis collin career eighti mainli made cheap dubiou soldier fortun armi film piti actual quit versatil actor end day martin shaw chose role care career still success\n"
     ]
    }
   ],
   "source": [
    "instance = train_X_processed[0]\n",
    "print(instance)"
   ]
  },
  {
   "cell_type": "code",
   "execution_count": 43,
   "metadata": {
    "colab": {
     "base_uri": "https://localhost:8080/",
     "height": 35
    },
    "colab_type": "code",
    "id": "fx6DdEm7TEke",
    "outputId": "c0da84fd-4d74-4f13-e36d-826e619d340c"
   },
   "outputs": [
    {
     "name": "stdout",
     "output_type": "stream",
     "text": [
      "0\n"
     ]
    }
   ],
   "source": [
    "print(train_y[0])"
   ]
  },
  {
   "cell_type": "code",
   "execution_count": 44,
   "metadata": {
    "colab": {
     "base_uri": "https://localhost:8080/",
     "height": 35
    },
    "colab_type": "code",
    "id": "aY4B-LswStmm",
    "outputId": "79d734d4-15e0-4374-fd48-4e9f8e0bf08d"
   },
   "outputs": [
    {
     "data": {
      "text/plain": [
       "array([[0.01083132]], dtype=float32)"
      ]
     },
     "execution_count": 44,
     "metadata": {
      "tags": []
     },
     "output_type": "execute_result"
    }
   ],
   "source": [
    "instance = tokenizer.texts_to_sequences(instance)\n",
    "\n",
    "flat_list = []\n",
    "for sublist in instance:\n",
    "    for item in sublist:\n",
    "        flat_list.append(item)\n",
    "\n",
    "flat_list = [flat_list]\n",
    "\n",
    "instance = pad_sequences(flat_list, padding='post', maxlen=maxlen)\n",
    "\n",
    "model.predict(instance)"
   ]
  },
  {
   "cell_type": "markdown",
   "metadata": {
    "colab_type": "text",
    "id": "DeFPnsnzS_7Q"
   },
   "source": [
    "The sigmoid function predicts floating value between 0 and 1. If the value is less than 0.5, the sentiment is considered negative where as if the value is greater than 0.5, the sentiment is considered as positive. The sentiment value for the single instance is 0.01 which means that the sentiment is predicted as negative, which actually is the case."
   ]
  },
  {
   "cell_type": "markdown",
   "metadata": {
    "colab_type": "text",
    "id": "SM5CZ18pgUD3"
   },
   "source": [
    "### Test on testing dataset"
   ]
  },
  {
   "cell_type": "code",
   "execution_count": 58,
   "metadata": {
    "colab": {
     "base_uri": "https://localhost:8080/",
     "height": 35
    },
    "colab_type": "code",
    "id": "2k5lEI26xQsJ",
    "outputId": "4a5eb3d0-7aad-48fe-bc15-a85410f51841"
   },
   "outputs": [
    {
     "name": "stdout",
     "output_type": "stream",
     "text": [
      "12500/12500 [==============================] - 16s 1ms/sample - loss: 0.3915 - acc: 0.8517\n"
     ]
    }
   ],
   "source": [
    "score = model.evaluate(X_test_, test_y, verbose=1)"
   ]
  },
  {
   "cell_type": "code",
   "execution_count": 59,
   "metadata": {
    "colab": {
     "base_uri": "https://localhost:8080/",
     "height": 52
    },
    "colab_type": "code",
    "id": "oa7_IWhhxcUY",
    "outputId": "81b7b7fc-662b-41d3-df6b-f223b7f3e6ef"
   },
   "outputs": [
    {
     "name": "stdout",
     "output_type": "stream",
     "text": [
      "Test Score: 0.3914588785648346\n",
      "Test Accuracy: 0.85168\n"
     ]
    }
   ],
   "source": [
    "print(\"Test Loss:\", score[0])\n",
    "print(\"Test Accuracy:\", score[1])"
   ]
  },
  {
   "cell_type": "markdown",
   "metadata": {
    "colab_type": "text",
    "id": "ts6ZyONOjuUS"
   },
   "source": [
    "We have acheived 85% in the testing dataset. I will next try to experiment with learning a word embedding using a pre-trained embedding with GloVe and check if this could improve the result. \n"
   ]
  },
  {
   "cell_type": "markdown",
   "metadata": {
    "colab_type": "text",
    "id": "WN2dJNhbJfql"
   },
   "source": [
    "# 3. LSTM model, where the embeddings are initialized with pre-trained GloVe vectors\n"
   ]
  },
  {
   "cell_type": "markdown",
   "metadata": {
    "colab_type": "text",
    "id": "suAcDmEsKmD3"
   },
   "source": [
    "I will use word embedding from pre-trained GloVe to create feature matrix. It was trained on a dataset of one billion tokens with a vocabulary of 400 thousand words. \n",
    "\n",
    "Why use GloVe embedding?\n",
    "- GloVe builds word embeddings in a way that a combination of word vectors relates directly to the probability of these words’ co-occurrence in the corpus\n",
    "- GloVe focuses on words co-occurrences over the whole corpus. Its embeddings relate to the probabilities that two words appear together.\n"
   ]
  },
  {
   "cell_type": "code",
   "execution_count": 66,
   "metadata": {
    "colab": {
     "base_uri": "https://localhost:8080/",
     "height": 372
    },
    "colab_type": "code",
    "id": "UNEH9amlUeGe",
    "outputId": "fb0cb0a0-bec5-4f97-f3d0-75e1385325af"
   },
   "outputs": [
    {
     "name": "stdout",
     "output_type": "stream",
     "text": [
      "--2019-12-21 09:39:55--  http://nlp.stanford.edu/data/glove.6B.zip\n",
      "Resolving nlp.stanford.edu (nlp.stanford.edu)... 171.64.67.140\n",
      "Connecting to nlp.stanford.edu (nlp.stanford.edu)|171.64.67.140|:80... connected.\n",
      "HTTP request sent, awaiting response... 302 Found\n",
      "Location: https://nlp.stanford.edu/data/glove.6B.zip [following]\n",
      "--2019-12-21 09:39:55--  https://nlp.stanford.edu/data/glove.6B.zip\n",
      "Connecting to nlp.stanford.edu (nlp.stanford.edu)|171.64.67.140|:443... connected.\n",
      "HTTP request sent, awaiting response... 301 Moved Permanently\n",
      "Location: http://downloads.cs.stanford.edu/nlp/data/glove.6B.zip [following]\n",
      "--2019-12-21 09:39:55--  http://downloads.cs.stanford.edu/nlp/data/glove.6B.zip\n",
      "Resolving downloads.cs.stanford.edu (downloads.cs.stanford.edu)... 171.64.64.22\n",
      "Connecting to downloads.cs.stanford.edu (downloads.cs.stanford.edu)|171.64.64.22|:80... connected.\n",
      "HTTP request sent, awaiting response... 200 OK\n",
      "Length: 862182613 (822M) [application/zip]\n",
      "Saving to: ‘glove.6B.zip.2’\n",
      "\n",
      "glove.6B.zip.2      100%[===================>] 822.24M  2.07MB/s    in 6m 27s  \n",
      "\n",
      "2019-12-21 09:46:22 (2.13 MB/s) - ‘glove.6B.zip.2’ saved [862182613/862182613]\n",
      "\n"
     ]
    }
   ],
   "source": [
    "!wget http://nlp.stanford.edu/data/glove.6B.zip\n",
    "#!tar -xzf glove.6B.zip"
   ]
  },
  {
   "cell_type": "code",
   "execution_count": 68,
   "metadata": {
    "colab": {
     "base_uri": "https://localhost:8080/",
     "height": 177
    },
    "colab_type": "code",
    "id": "K016VVtgU-Do",
    "outputId": "593c80f2-f9d5-4a61-8ee3-ebd97a8143f2"
   },
   "outputs": [
    {
     "name": "stdout",
     "output_type": "stream",
     "text": [
      "Archive:  glove.6B.zip.2\n",
      "  inflating: glove.6B.50d.txt        \n",
      "  inflating: glove.6B.100d.txt       \n",
      "  inflating: glove.6B.200d.txt       \n",
      "  inflating: glove.6B.300d.txt       \n",
      "aclImdb\t\t   glove.6B.200d.txt  glove.6B.zip    sample_data\n",
      "aclImdb_v1.tar.gz  glove.6B.300d.txt  glove.6B.zip.1\n",
      "glove.6B.100d.txt  glove.6B.50d.txt   glove.6B.zip.2\n",
      "/content\n"
     ]
    }
   ],
   "source": [
    "!unzip glove*.zip.2\n",
    "!ls\n",
    "!pwd"
   ]
  },
  {
   "cell_type": "markdown",
   "metadata": {
    "colab_type": "text",
    "id": "7Y6rTz-og-xw"
   },
   "source": [
    "### GloVe embedding"
   ]
  },
  {
   "cell_type": "markdown",
   "metadata": {
    "colab_type": "text",
    "id": "DDYVHkxyYo6j"
   },
   "source": [
    "The glove has embedding vector sizes: 50, 100, 200 and 300 dimensions. I chose the 100-dimensional one. "
   ]
  },
  {
   "cell_type": "code",
   "execution_count": 69,
   "metadata": {
    "colab": {
     "base_uri": "https://localhost:8080/",
     "height": 52
    },
    "colab_type": "code",
    "id": "qYEjzFfpVE3S",
    "outputId": "a29f71bc-d046-413b-a5df-51b74fdfe3ad"
   },
   "outputs": [
    {
     "name": "stdout",
     "output_type": "stream",
     "text": [
      "Indexing word vectors.\n",
      "Found 400000 word vectors.\n"
     ]
    }
   ],
   "source": [
    "# Extract word embeddings from the Glove\n",
    "print('Indexing word vectors.')\n",
    "\n",
    "embeddings_dictionary = {}\n",
    "glove_file  = open('glove.6B.100d.txt', encoding='utf-8')\n",
    "for line in glove_file:\n",
    "    values = line.split()\n",
    "    word = values[0]\n",
    "    coefs = np.asarray(values[1:], dtype='float32')\n",
    "    embeddings_dictionary[word] = coefs\n",
    "glove_file .close()\n",
    "\n",
    "print('Found %s word vectors.' % len(embeddings_dictionary))"
   ]
  },
  {
   "cell_type": "markdown",
   "metadata": {
    "colab_type": "text",
    "id": "5u8Q0vNDPHY7"
   },
   "source": [
    "Create an embedding matrix where each row number will correspond to the index of the word in the corpus. The matrix will have 100 columns where each column will contain the GloVe word embeddings for the words in our corpus."
   ]
  },
  {
   "cell_type": "code",
   "execution_count": 0,
   "metadata": {
    "colab": {},
    "colab_type": "code",
    "id": "pSUup7yZPK1f"
   },
   "outputs": [],
   "source": [
    "# Create a weight matrix\n",
    "embedding_matrix = np.zeros((vocab_size, 100))\n",
    "for word, index in tokenizer.word_index.items():\n",
    "    embedding_vector = embeddings_dictionary.get(word)\n",
    "    if embedding_vector is not None:\n",
    "        embedding_matrix[index] = embedding_vector"
   ]
  },
  {
   "cell_type": "code",
   "execution_count": 71,
   "metadata": {
    "colab": {
     "base_uri": "https://localhost:8080/",
     "height": 35
    },
    "colab_type": "code",
    "id": "2CIwRIUFBR72",
    "outputId": "1e5a2f5e-23dc-42f0-d63e-742866fac20b"
   },
   "outputs": [
    {
     "data": {
      "text/plain": [
       "50416"
      ]
     },
     "execution_count": 71,
     "metadata": {
      "tags": []
     },
     "output_type": "execute_result"
    }
   ],
   "source": [
    "len(embedding_matrix )"
   ]
  },
  {
   "cell_type": "markdown",
   "metadata": {
    "colab_type": "text",
    "id": "2d83tEO1hFG6"
   },
   "source": [
    "### Create LSTM model with pre-trained GloVe vectors"
   ]
  },
  {
   "cell_type": "markdown",
   "metadata": {
    "colab_type": "text",
    "id": "ttR57r_-Z7_m"
   },
   "source": [
    "I start by initializing a sequential model followed by the creation of the embedding layer. Next, we create an LSTM layer with 128 neurons.  I keep the “trainable” parameter as ‘False’ to see if the model imporves while keeping the word embeddings fixed."
   ]
  },
  {
   "cell_type": "code",
   "execution_count": 0,
   "metadata": {
    "colab": {},
    "colab_type": "code",
    "id": "l9CwR0NWX9y4"
   },
   "outputs": [],
   "source": [
    "# create the model\n",
    "from keras import backend as K\n",
    "K.clear_session()\n",
    "\n",
    "model_glove = Sequential()\n",
    "model_glove.add(Embedding(vocab_size, 100, weights=[embedding_matrix], input_length=maxlen))\n",
    "                         \n",
    "model_glove.add(LSTM(64, dropout=0.2, recurrent_dropout=0.2))\n",
    "model_glove.add(Dense(1, activation='sigmoid'))"
   ]
  },
  {
   "cell_type": "code",
   "execution_count": 73,
   "metadata": {
    "colab": {
     "base_uri": "https://localhost:8080/",
     "height": 284
    },
    "colab_type": "code",
    "id": "0e84XkIqYwZ3",
    "outputId": "ef4e9390-4b2c-443b-e98a-a55a0ad6e2db"
   },
   "outputs": [
    {
     "name": "stdout",
     "output_type": "stream",
     "text": [
      "Model: \"sequential\"\n",
      "_________________________________________________________________\n",
      "Layer (type)                 Output Shape              Param #   \n",
      "=================================================================\n",
      "embedding (Embedding)        (None, 100, 100)          5041600   \n",
      "_________________________________________________________________\n",
      "lstm (LSTM)                  (None, 64)                42240     \n",
      "_________________________________________________________________\n",
      "dense (Dense)                (None, 1)                 65        \n",
      "=================================================================\n",
      "Total params: 5,083,905\n",
      "Trainable params: 5,083,905\n",
      "Non-trainable params: 0\n",
      "_________________________________________________________________\n",
      "None\n"
     ]
    }
   ],
   "source": [
    "model_glove.compile(optimizer='adam', loss='binary_crossentropy', metrics=['acc'])\n",
    "print(model_glove.summary())"
   ]
  },
  {
   "cell_type": "code",
   "execution_count": 76,
   "metadata": {
    "colab": {
     "base_uri": "https://localhost:8080/",
     "height": 464
    },
    "colab_type": "code",
    "id": "z5mRsOgRYwT7",
    "outputId": "9326ebb3-8420-4435-ea01-a8dfe7422a21"
   },
   "outputs": [
    {
     "name": "stdout",
     "output_type": "stream",
     "text": [
      "Train on 25000 samples, validate on 12500 samples\n",
      "Epoch 1/10\n",
      "25000/25000 [==============================] - 85s 3ms/sample - loss: 0.5899 - acc: 0.6860 - val_loss: 0.5113 - val_acc: 0.7716\n",
      "Epoch 2/10\n",
      "25000/25000 [==============================] - 84s 3ms/sample - loss: 0.5248 - acc: 0.7694 - val_loss: 0.4444 - val_acc: 0.8174\n",
      "Epoch 3/10\n",
      "25000/25000 [==============================] - 85s 3ms/sample - loss: 0.4382 - acc: 0.8205 - val_loss: 0.3917 - val_acc: 0.8403\n",
      "Epoch 4/10\n",
      "25000/25000 [==============================] - 85s 3ms/sample - loss: 0.4009 - acc: 0.8331 - val_loss: 0.4109 - val_acc: 0.8482\n",
      "Epoch 5/10\n",
      "25000/25000 [==============================] - 85s 3ms/sample - loss: 0.4265 - acc: 0.8127 - val_loss: 0.5712 - val_acc: 0.7637\n",
      "Epoch 6/10\n",
      "25000/25000 [==============================] - 85s 3ms/sample - loss: 0.4663 - acc: 0.8097 - val_loss: 0.4181 - val_acc: 0.8379\n",
      "Epoch 7/10\n",
      "25000/25000 [==============================] - 85s 3ms/sample - loss: 0.3689 - acc: 0.8602 - val_loss: 0.3655 - val_acc: 0.8499\n",
      "Epoch 8/10\n",
      "25000/25000 [==============================] - 85s 3ms/sample - loss: 0.3232 - acc: 0.8710 - val_loss: 0.3409 - val_acc: 0.8567\n",
      "Epoch 9/10\n",
      "25000/25000 [==============================] - 84s 3ms/sample - loss: 0.2878 - acc: 0.8906 - val_loss: 0.3534 - val_acc: 0.8599\n",
      "Epoch 10/10\n",
      "25000/25000 [==============================] - 84s 3ms/sample - loss: 0.2679 - acc: 0.8984 - val_loss: 0.3668 - val_acc: 0.8576\n",
      "12500/12500 [==============================] - 16s 1ms/sample - loss: 0.3668 - acc: 0.8576\n",
      "CPU times: user 19min 34s, sys: 2min 1s, total: 21min 35s\n",
      "Wall time: 14min 24s\n"
     ]
    }
   ],
   "source": [
    "%%time\n",
    "# train the model on the training set and evaluate its performance on the validation set\n",
    "history = model_glove.fit(X_train_, train_y, batch_size=64, epochs=10, verbose=1,  validation_data=(X_val_, val_y))\n",
    "\n",
    "score = model_glove.evaluate(X_val_, val_y, verbose=1)"
   ]
  },
  {
   "cell_type": "code",
   "execution_count": 77,
   "metadata": {
    "colab": {
     "base_uri": "https://localhost:8080/",
     "height": 52
    },
    "colab_type": "code",
    "id": "ZEs5RjcqZrhP",
    "outputId": "2c0d06d4-cc75-4dc8-ac71-dacb798ea3e0"
   },
   "outputs": [
    {
     "name": "stdout",
     "output_type": "stream",
     "text": [
      "Validation Loss: 0.36679696932792666\n",
      "Validation Accuracy: 0.8576\n"
     ]
    }
   ],
   "source": [
    "print(\"Validation Loss:\", score[0])\n",
    "print(\"Validation Accuracy:\", score[1])"
   ]
  },
  {
   "cell_type": "code",
   "execution_count": 78,
   "metadata": {
    "colab": {
     "base_uri": "https://localhost:8080/",
     "height": 573
    },
    "colab_type": "code",
    "id": "xgxRDVKCZsXB",
    "outputId": "9249f54e-99f7-473b-9b97-3268cd52fb3b"
   },
   "outputs": [
    {
     "data": {
      "image/png": "[encoded data removed]",
      "text/plain": [
       "<Figure size 432x288 with 1 Axes>"
      ]
     },
     "metadata": {
      "tags": []
     },
     "output_type": "display_data"
    },
    {
     "data": {
      "image/png": "[encoded data removed]",
      "text/plain": [
       "<Figure size 432x288 with 1 Axes>"
      ]
     },
     "metadata": {
      "tags": []
     },
     "output_type": "display_data"
    }
   ],
   "source": [
    "import matplotlib.pyplot as plt\n",
    "\n",
    "plt.plot(history.history['acc'])\n",
    "plt.plot(history.history['val_acc'])\n",
    "\n",
    "plt.title('model accuracy')\n",
    "plt.ylabel('accuracy')\n",
    "plt.xlabel('epoch')\n",
    "plt.legend(['train','test'], loc='upper left')\n",
    "plt.show()\n",
    "\n",
    "plt.plot(history.history['loss'])\n",
    "plt.plot(history.history['val_loss'])\n",
    "\n",
    "plt.title('model loss')\n",
    "plt.ylabel('loss')\n",
    "plt.xlabel('epoch')\n",
    "plt.legend(['train','test'], loc='upper left')\n",
    "plt.show()"
   ]
  },
  {
   "cell_type": "markdown",
   "metadata": {
    "colab_type": "text",
    "id": "Aa2DflCZkvfc"
   },
   "source": [
    "Why GloVe embedding have a better result than the prvious LSTM model?\n",
    "- With GloVe embedding, the training loss decays more quickly and faster training than the embedding-layer-based model. It can be interpreted that the model could pick up more semantic signals from the pre-trained embeddings than it did from the training data through the embedding layer."
   ]
  },
  {
   "cell_type": "markdown",
   "metadata": {
    "colab_type": "text",
    "id": "2l_27BALgj8-"
   },
   "source": [
    "### Test on testing dataset"
   ]
  },
  {
   "cell_type": "code",
   "execution_count": 79,
   "metadata": {
    "colab": {
     "base_uri": "https://localhost:8080/",
     "height": 35
    },
    "colab_type": "code",
    "id": "j1QgNbOAgj8_",
    "outputId": "234710d5-f38a-430a-e46a-01e2b7207f05"
   },
   "outputs": [
    {
     "name": "stdout",
     "output_type": "stream",
     "text": [
      "12500/12500 [==============================] - 16s 1ms/sample - loss: 0.3440 - acc: 0.8635\n"
     ]
    }
   ],
   "source": [
    "score = model_glove.evaluate(X_test_, test_y, verbose=1)"
   ]
  },
  {
   "cell_type": "code",
   "execution_count": 80,
   "metadata": {
    "colab": {
     "base_uri": "https://localhost:8080/",
     "height": 52
    },
    "colab_type": "code",
    "id": "NFwEezjZy3Lq",
    "outputId": "589e4009-1a30-4c9b-f0fc-f5531cc16e35"
   },
   "outputs": [
    {
     "name": "stdout",
     "output_type": "stream",
     "text": [
      "Test Loss: 0.34399152638435365\n",
      "Test Accuracy: 0.86352\n"
     ]
    }
   ],
   "source": [
    "print(\"Test Loss:\", score[0])\n",
    "print(\"Test Accuracy:\", score[1])"
   ]
  },
  {
   "cell_type": "markdown",
   "metadata": {
    "colab_type": "text",
    "id": "VJhxsIP6lgMX"
   },
   "source": [
    "I have acheived 86% in the testing dataset. It performed better than the previous models.\n",
    " \n",
    "Drawback of GloVe embedding: \n",
    "- it cannot be generalise to unknow words. \n",
    "\n",
    "FastText developed by Facebook had promised to overcome this obstacle. I will next try to experiment with fastText model."
   ]
  },
  {
   "cell_type": "markdown",
   "metadata": {
    "colab_type": "text",
    "id": "gLjTuUnbJfnz"
   },
   "source": [
    "# 4. fastText model"
   ]
  },
  {
   "cell_type": "markdown",
   "metadata": {
    "colab_type": "text",
    "id": "QFLivjKAnMax"
   },
   "source": [
    "fastText embeddings consists of part of words and characters.\n",
    "\n",
    "Advantage: \n",
    "- generalization is possible as long as new words have the same characters as known ones. \n",
    "- less training data is needed since much more information can be extracted from each piece of text. "
   ]
  },
  {
   "cell_type": "code",
   "execution_count": 0,
   "metadata": {
    "colab": {},
    "colab_type": "code",
    "id": "GKuLzYsQZsTR"
   },
   "outputs": [],
   "source": [
    "#!pip3 install ktrain"
   ]
  },
  {
   "cell_type": "markdown",
   "metadata": {
    "colab_type": "text",
    "id": "JFXWFCs9e4RM"
   },
   "source": [
    "### Loading / preprocessing"
   ]
  },
  {
   "cell_type": "code",
   "execution_count": 125,
   "metadata": {
    "colab": {
     "base_uri": "https://localhost:8080/",
     "height": 212
    },
    "colab_type": "code",
    "id": "uCCcBqZiZgnv",
    "outputId": "fd1d5d78-0cb9-41ac-cc8a-1473ef6c1a1a"
   },
   "outputs": [
    {
     "name": "stdout",
     "output_type": "stream",
     "text": [
      "language: en\n",
      "Word Counts: 50415\n",
      "Nrows: 25000\n",
      "25000 train sequences\n",
      "Average train sequence length: 117\n",
      "x_train shape: (25000,400)\n",
      "y_train shape: (25000,2)\n",
      "12500 test sequences\n",
      "Average test sequence length: 112\n",
      "x_test shape: (12500,400)\n",
      "y_test shape: (12500,2)\n"
     ]
    }
   ],
   "source": [
    "import ktrain\n",
    "from ktrain import text\n",
    "(x_train,  y_train), (x_val, y_val), preproc = text.texts_from_array(x_train=train_X_processed, y_train=train_y,\n",
    "                                                                       x_test=val_X_processed, y_test=val_y,\n",
    "                                                                       max_features=20000, \n",
    "                                                                      maxlen=400,\n",
    "                                                                       class_names=[0,1],\n",
    "                                                                      ngram_range=1) \n",
    "                                                                     "
   ]
  },
  {
   "cell_type": "markdown",
   "metadata": {
    "colab_type": "text",
    "id": "vFQI8qprfGPP"
   },
   "source": [
    "### Loading fastText model"
   ]
  },
  {
   "cell_type": "code",
   "execution_count": 126,
   "metadata": {
    "colab": {
     "base_uri": "https://localhost:8080/",
     "height": 88
    },
    "colab_type": "code",
    "id": "_YdhgvLlZpmw",
    "outputId": "efffc8b9-93fb-4c1a-ee08-de61bb6b3f58"
   },
   "outputs": [
    {
     "name": "stdout",
     "output_type": "stream",
     "text": [
      "Is Multi-Label? False\n",
      "compiling word ID features...\n",
      "maxlen is 400\n",
      "done.\n"
     ]
    }
   ],
   "source": [
    "model_fasttext = text.text_classifier('fasttext', (x_train, y_train), \n",
    "                             preproc=preproc)\n",
    "learner_fasttext = ktrain.get_learner(model_fasttext, train_data=(x_train, y_train), val_data=(x_val, y_val))"
   ]
  },
  {
   "cell_type": "code",
   "execution_count": 127,
   "metadata": {
    "colab": {
     "base_uri": "https://localhost:8080/",
     "height": 534
    },
    "colab_type": "code",
    "id": "0bGHaccCaEsd",
    "outputId": "f10ca39e-454e-46bd-ff02-33d6622a8614"
   },
   "outputs": [
    {
     "name": "stdout",
     "output_type": "stream",
     "text": [
      "simulating training for different learning rates... this may take a few moments...\n",
      "Train on 25000 samples\n",
      "Epoch 1/1024\n",
      "25000/25000 [==============================] - 8s 319us/sample - loss: 1.0315 - acc: 0.5040\n",
      "Epoch 2/1024\n",
      "25000/25000 [==============================] - 7s 284us/sample - loss: 0.7010 - acc: 0.5977\n",
      "Epoch 3/1024\n",
      " 6176/25000 [======>.......................] - ETA: 5s - loss: 16.0702 - acc: 0.4955\n",
      "\n",
      "done.\n",
      "Please invoke the Learner.lr_plot() method to visually inspect the loss plot to help identify the maximal learning rate associated with falling loss.\n",
      "CPU times: user 33.9 s, sys: 3.04 s, total: 36.9 s\n",
      "Wall time: 28.8 s\n"
     ]
    },
    {
     "data": {
      "image/png": "[encoded data removed]",
      "text/plain": [
       "<Figure size 432x288 with 1 Axes>"
      ]
     },
     "metadata": {
      "tags": []
     },
     "output_type": "display_data"
    }
   ],
   "source": [
    "%%time\n",
    "learner_fasttext.lr_find()\n",
    "learner_fasttext.lr_plot()"
   ]
  },
  {
   "cell_type": "markdown",
   "metadata": {
    "colab_type": "text",
    "id": "6X-Kmz0EfBUI"
   },
   "source": [
    "### Training "
   ]
  },
  {
   "cell_type": "code",
   "execution_count": 128,
   "metadata": {
    "colab": {
     "base_uri": "https://localhost:8080/",
     "height": 232
    },
    "colab_type": "code",
    "id": "Th9tcyK9aHi_",
    "outputId": "23c7a522-7c98-4d0c-b2fd-1f0f0273af5a"
   },
   "outputs": [
    {
     "name": "stdout",
     "output_type": "stream",
     "text": [
      "\n",
      "\n",
      "begin training using triangular learning rate policy with max lr of 0.005...\n",
      "Train on 25000 samples, validate on 12500 samples\n",
      "Epoch 1/2\n",
      "25000/25000 [==============================] - 15s 595us/sample - loss: 0.5929 - acc: 0.6999 - val_loss: 0.3837 - val_acc: 0.8383\n",
      "Epoch 2/2\n",
      "25000/25000 [==============================] - 11s 426us/sample - loss: 0.4122 - acc: 0.8164 - val_loss: 0.3459 - val_acc: 0.8537\n",
      "CPU times: user 31.2 s, sys: 3.43 s, total: 34.6 s\n",
      "Wall time: 25.6 s\n"
     ]
    },
    {
     "data": {
      "text/plain": [
       "<tensorflow.python.keras.callbacks.History at 0x7f58ff239c18>"
      ]
     },
     "execution_count": 128,
     "metadata": {
      "tags": []
     },
     "output_type": "execute_result"
    }
   ],
   "source": [
    "%%time\n",
    "learner_fasttext.autofit(0.005, 2)"
   ]
  },
  {
   "cell_type": "code",
   "execution_count": 129,
   "metadata": {
    "colab": {
     "base_uri": "https://localhost:8080/",
     "height": 52
    },
    "colab_type": "code",
    "id": "XTHn_dVzaN13",
    "outputId": "e245f9c4-869f-4c6c-990b-8501e0bd3a38"
   },
   "outputs": [
    {
     "name": "stdout",
     "output_type": "stream",
     "text": [
      "Validation Loss: 0.34399152638435365\n",
      "Validation Accuracy: 0.86352\n"
     ]
    }
   ],
   "source": [
    "print(\"Validation Loss:\", score[0])\n",
    "print(\"Validation Accuracy:\", score[1])"
   ]
  },
  {
   "cell_type": "markdown",
   "metadata": {
    "colab_type": "text",
    "id": "wxyVCi7dedw4"
   },
   "source": [
    "### Test on testing dataset"
   ]
  },
  {
   "cell_type": "code",
   "execution_count": 0,
   "metadata": {
    "colab": {},
    "colab_type": "code",
    "id": "3aBdPApiRvFW"
   },
   "outputs": [],
   "source": [
    "learner_fasttext = ktrain.get_predictor(learner_fasttext.model, preproc)"
   ]
  },
  {
   "cell_type": "code",
   "execution_count": 0,
   "metadata": {
    "colab": {},
    "colab_type": "code",
    "id": "TmUxjS8kedxC"
   },
   "outputs": [],
   "source": [
    "pred_y =learner_fasttext.predict(test_X_processed)\n",
    "pred_y = list(map(int, pred_y))\n",
    "pred_y=np.asarray(pred_y)"
   ]
  },
  {
   "cell_type": "code",
   "execution_count": 132,
   "metadata": {
    "colab": {
     "base_uri": "https://localhost:8080/",
     "height": 230
    },
    "colab_type": "code",
    "id": "muuYRrR6edxD",
    "outputId": "07308ea6-21dc-497c-84e4-49f2a3b0b0e2"
   },
   "outputs": [
    {
     "name": "stdout",
     "output_type": "stream",
     "text": [
      "[[5269 1039]\n",
      " [ 726 5466]]\n",
      "              precision    recall  f1-score   support\n",
      "\n",
      "           0       0.88      0.84      0.86      6308\n",
      "           1       0.84      0.88      0.86      6192\n",
      "\n",
      "    accuracy                           0.86     12500\n",
      "   macro avg       0.86      0.86      0.86     12500\n",
      "weighted avg       0.86      0.86      0.86     12500\n",
      "\n",
      "0.8588\n"
     ]
    }
   ],
   "source": [
    "from sklearn.metrics import classification_report, confusion_matrix, accuracy_score\n",
    "\n",
    "print(confusion_matrix(test_y,pred_y))\n",
    "print(classification_report(test_y,pred_y))\n",
    "print(accuracy_score(test_y, pred_y))"
   ]
  },
  {
   "cell_type": "markdown",
   "metadata": {
    "colab_type": "text",
    "id": "Sb_EdnAfldLT"
   },
   "source": [
    "I have acheived 86% in the testing dataset. Advantage of fastText would be it runs really quick to train the model, however, fastText does not use pre-trained word embeddings, which can be explained why it has a lower accuracy . I will next try to experiemnt to  train on pre-trained word BERT embedding."
   ]
  },
  {
   "cell_type": "markdown",
   "metadata": {
    "colab_type": "text",
    "id": "BlHDZPSmedxF"
   },
   "source": [
    "### \"Explaining\" model performance"
   ]
  },
  {
   "cell_type": "code",
   "execution_count": 0,
   "metadata": {
    "colab": {},
    "colab_type": "code",
    "id": "0gPFvToPedxG"
   },
   "outputs": [],
   "source": [
    "data = [ 'This movie was horrible! The plot was boring. Acting was okay, though.',\n",
    "         'The film really sucked. I want my money back.',\n",
    "        'The plot had too many holes.',\n",
    "        'What a beautiful romantic comedy. 10/10 would see again!',\n",
    "         ]"
   ]
  },
  {
   "cell_type": "code",
   "execution_count": 101,
   "metadata": {
    "colab": {
     "base_uri": "https://localhost:8080/",
     "height": 35
    },
    "colab_type": "code",
    "id": "X4k2oTCOedxK",
    "outputId": "be9caa99-2d67-4664-a08d-58da6d116148"
   },
   "outputs": [
    {
     "data": {
      "text/plain": [
       "[0, 1, 1, 1]"
      ]
     },
     "execution_count": 101,
     "metadata": {
      "tags": []
     },
     "output_type": "execute_result"
    }
   ],
   "source": [
    "learner_fasttext.predict(data)\n"
   ]
  },
  {
   "cell_type": "markdown",
   "metadata": {
    "colab_type": "text",
    "id": "uGdv79AAJfhC"
   },
   "source": [
    "# 5. BERT based model "
   ]
  },
  {
   "cell_type": "markdown",
   "metadata": {
    "colab_type": "text",
    "id": "j6rKRZJEpiLi"
   },
   "source": [
    "BERT (Bidirectional Encoder Representations from Transformers) is a deep learning model developed by Google.Since it is Bidirectional, it is in contrast to previous efforts which looked at a text sequence either from left to right or combined left-to-right and right-to-left training. BERT makes use of Transformer, an attention mechanism that learns contextual relations between words (or sub-words) in a text."
   ]
  },
  {
   "cell_type": "markdown",
   "metadata": {
    "colab_type": "text",
    "id": "13vm6-BWVFDH"
   },
   "source": [
    "### Loading / preprocessing"
   ]
  },
  {
   "cell_type": "code",
   "execution_count": 115,
   "metadata": {
    "colab": {
     "base_uri": "https://localhost:8080/",
     "height": 122
    },
    "colab_type": "code",
    "id": "Z6f0X9L86A4b",
    "outputId": "53eb51cd-d8a2-4142-bde1-978c768b7309"
   },
   "outputs": [
    {
     "name": "stdout",
     "output_type": "stream",
     "text": [
      "preprocessing train...\n",
      "language: en\n"
     ]
    },
    {
     "data": {
      "text/html": [
       "done."
      ],
      "text/plain": [
       "<IPython.core.display.HTML object>"
      ]
     },
     "metadata": {
      "tags": []
     },
     "output_type": "display_data"
    },
    {
     "name": "stdout",
     "output_type": "stream",
     "text": [
      "preprocessing test...\n",
      "language: en\n"
     ]
    },
    {
     "data": {
      "text/html": [
       "done."
      ],
      "text/plain": [
       "<IPython.core.display.HTML object>"
      ]
     },
     "metadata": {
      "tags": []
     },
     "output_type": "display_data"
    }
   ],
   "source": [
    "import ktrain\n",
    "from ktrain import text\n",
    "(x_train_bert, y_train_bert), (x_val_bert, y_val_bert), preproc_bert = text.texts_from_array(x_train=train_X, y_train=train_y,\n",
    "                                                                       x_test=val_X, y_test=val_y,\n",
    "                                                                      #max_features=1000, \n",
    "                                                                      maxlen=200,\n",
    "                                                                      preprocess_mode='bert')"
   ]
  },
  {
   "cell_type": "markdown",
   "metadata": {
    "colab_type": "text",
    "id": "Mk-KLec-VI2l"
   },
   "source": [
    "### Loading the (pretrained) model"
   ]
  },
  {
   "cell_type": "code",
   "execution_count": 116,
   "metadata": {
    "colab": {
     "base_uri": "https://localhost:8080/",
     "height": 70
    },
    "colab_type": "code",
    "id": "B8GPq294ZsNj",
    "outputId": "cbb72971-df73-4737-e167-d11206c2986c"
   },
   "outputs": [
    {
     "name": "stdout",
     "output_type": "stream",
     "text": [
      "Is Multi-Label? False\n",
      "maxlen is 200\n",
      "done.\n"
     ]
    }
   ],
   "source": [
    "# load model\n",
    "model_bert = text.text_classifier('bert', (x_train_bert, y_train_bert), preproc=preproc_bert)\n",
    " \n"
   ]
  },
  {
   "cell_type": "markdown",
   "metadata": {
    "colab_type": "text",
    "id": "92b_zEbrp-XG"
   },
   "source": [
    "get_learner uses the ktraintext_classifier function to load the pretrained BERT model with a randomly initialized final Dense layer. The second and third arguments are the training and validation data, respectively. The last argument to get_learner is the batch size. We use a small batch size of 6 based on the following recommendations from Google for 12GB GPUs"
   ]
  },
  {
   "cell_type": "code",
   "execution_count": 0,
   "metadata": {
    "colab": {},
    "colab_type": "code",
    "id": "FTGIcG6TYI5y"
   },
   "outputs": [],
   "source": [
    "# wrap model and data in ktrain.Learner object\n",
    "\n",
    "learner_bert = ktrain.get_learner(model_bert, \n",
    "                             train_data=(x_train_bert, y_train_bert), \n",
    "                            # val_data=(x_val_bert, y_val_bert),  # since it takes so long for BERT to train, i will take out the val_data here \n",
    "                             batch_size=6)"
   ]
  },
  {
   "cell_type": "markdown",
   "metadata": {
    "colab_type": "text",
    "id": "LCFoNrZKVQHk"
   },
   "source": [
    "### Using \"learning rate finder\" functionality to search for optimal training parameters"
   ]
  },
  {
   "cell_type": "code",
   "execution_count": 105,
   "metadata": {
    "colab": {
     "base_uri": "https://localhost:8080/",
     "height": 463
    },
    "colab_type": "code",
    "id": "h0WICH4nZsLg",
    "outputId": "7ab91103-1264-4541-b87b-fd2ddd8b322f"
   },
   "outputs": [
    {
     "name": "stdout",
     "output_type": "stream",
     "text": [
      "simulating training for different learning rates... this may take a few moments...\n",
      "Train on 25000 samples\n",
      "Epoch 1/1024\n",
      " 6678/25000 [=======>......................] - ETA: 23:37 - loss: 0.6526 - acc: 0.6361\n",
      "\n",
      "done.\n",
      "Please invoke the Learner.lr_plot() method to visually inspect the loss plot to help identify the maximal learning rate associated with falling loss.\n",
      "CPU times: user 4min 59s, sys: 2min 26s, total: 7min 25s\n",
      "Wall time: 8min 57s\n"
     ]
    },
    {
     "data": {
      "image/png": "[encoded data removed]",
      "text/plain": [
       "<Figure size 432x288 with 1 Axes>"
      ]
     },
     "metadata": {
      "tags": []
     },
     "output_type": "display_data"
    }
   ],
   "source": [
    "%%time\n",
    "learner_bert.lr_find()             # briefly simulate training to find good learning rate\n",
    "learner_bert.lr_plot()             # visually identify best learning rate"
   ]
  },
  {
   "cell_type": "markdown",
   "metadata": {
    "colab_type": "text",
    "id": "F9KmXOZ0VYBW"
   },
   "source": [
    "### Training "
   ]
  },
  {
   "cell_type": "markdown",
   "metadata": {
    "colab_type": "text",
    "id": "bsC7OUdxqOdJ"
   },
   "source": [
    "Maximum learning rate of 2e-5 is used based on recommendations from the paper.  "
   ]
  },
  {
   "cell_type": "code",
   "execution_count": 118,
   "metadata": {
    "colab": {
     "base_uri": "https://localhost:8080/",
     "height": 248
    },
    "colab_type": "code",
    "id": "1UmOff1LZsHl",
    "outputId": "acc5650f-b6f4-4030-8298-a155b09ce0ba"
   },
   "outputs": [
    {
     "name": "stdout",
     "output_type": "stream",
     "text": [
      "\n",
      "\n",
      "begin training using onecycle policy with max lr of 2e-05...\n",
      "Train on 25000 samples\n",
      "Epoch 1/3\n",
      "25000/25000 [==============================] - 780s 31ms/sample - loss: 0.3092 - acc: 0.8672\n",
      "Epoch 2/3\n",
      "25000/25000 [==============================] - 771s 31ms/sample - loss: 0.2001 - acc: 0.9231\n",
      "Epoch 3/3\n",
      "25000/25000 [==============================] - 771s 31ms/sample - loss: 0.0684 - acc: 0.9772\n",
      "CPU times: user 31min 29s, sys: 10min 35s, total: 42min 5s\n",
      "Wall time: 39min\n"
     ]
    },
    {
     "data": {
      "text/plain": [
       "<tensorflow.python.keras.callbacks.History at 0x7f58fb244ac8>"
      ]
     },
     "execution_count": 118,
     "metadata": {
      "tags": []
     },
     "output_type": "execute_result"
    }
   ],
   "source": [
    "%%time\n",
    "# using 1cycle learning rate schedule for 3 epochs\n",
    "learner_bert.fit_onecycle(2e-5, 3)"
   ]
  },
  {
   "cell_type": "markdown",
   "metadata": {
    "colab_type": "text",
    "id": "F2cSk0Y56CRE"
   },
   "source": [
    "With 3 epoch, I have reached 97% accuracy on training set. The performance of BERT is very impressive, however it takes so much time to run."
   ]
  },
  {
   "cell_type": "code",
   "execution_count": 120,
   "metadata": {
    "colab": {
     "base_uri": "https://localhost:8080/",
     "height": 248
    },
    "colab_type": "code",
    "id": "Qtui-9v0rNR-",
    "outputId": "e921d5aa-0c03-4ef1-fcbd-fcddc751003e"
   },
   "outputs": [
    {
     "name": "stdout",
     "output_type": "stream",
     "text": [
      "              precision    recall  f1-score   support\n",
      "\n",
      "           0       0.92      0.91      0.91      6192\n",
      "           1       0.91      0.92      0.91      6308\n",
      "\n",
      "    accuracy                           0.91     12500\n",
      "   macro avg       0.91      0.91      0.91     12500\n",
      "weighted avg       0.91      0.91      0.91     12500\n",
      "\n",
      "CPU times: user 17.2 s, sys: 6.15 s, total: 23.4 s\n",
      "Wall time: 1min 32s\n"
     ]
    },
    {
     "data": {
      "text/plain": [
       "array([[5611,  581],\n",
       "       [ 520, 5788]])"
      ]
     },
     "execution_count": 120,
     "metadata": {
      "tags": []
     },
     "output_type": "execute_result"
    }
   ],
   "source": [
    "%%time\n",
    "learner_bert.validate(val_data=(x_val_bert, y_val_bert))"
   ]
  },
  {
   "cell_type": "markdown",
   "metadata": {
    "colab_type": "text",
    "id": "I-iIn0lbJF1u"
   },
   "source": [
    "Achieved 91% for the validation set. "
   ]
  },
  {
   "cell_type": "markdown",
   "metadata": {
    "colab_type": "text",
    "id": "sGKY9EuhXLiI"
   },
   "source": [
    "### Test on testing dataset"
   ]
  },
  {
   "cell_type": "markdown",
   "metadata": {
    "colab_type": "text",
    "id": "HdN8cX4oI-KT"
   },
   "source": [
    "Call the learner.get_predictor method to obtain a Predictor object capable of making predictions on new raw data."
   ]
  },
  {
   "cell_type": "code",
   "execution_count": 0,
   "metadata": {
    "colab": {},
    "colab_type": "code",
    "id": "dq6wN5UsZO80"
   },
   "outputs": [],
   "source": [
    "predictor_bert = ktrain.get_predictor(learner_bert.model, preproc_bert)"
   ]
  },
  {
   "cell_type": "code",
   "execution_count": 123,
   "metadata": {
    "colab": {
     "base_uri": "https://localhost:8080/",
     "height": 17
    },
    "colab_type": "code",
    "id": "4WEbrbMPca3X",
    "outputId": "6b2ec763-803d-4d39-f330-f6604f3e2de0"
   },
   "outputs": [
    {
     "data": {
      "text/html": [],
      "text/plain": [
       "<IPython.core.display.HTML object>"
      ]
     },
     "metadata": {
      "tags": []
     },
     "output_type": "display_data"
    }
   ],
   "source": [
    "pred_y =predictor_bert.predict(test_X)\n",
    "pred_y = list(map(int, pred_y))\n",
    "pred_y=np.asarray(pred_y)"
   ]
  },
  {
   "cell_type": "code",
   "execution_count": 124,
   "metadata": {
    "colab": {
     "base_uri": "https://localhost:8080/",
     "height": 230
    },
    "colab_type": "code",
    "id": "_3Cx5LIDca3b",
    "outputId": "4850bdd7-e586-426e-9c56-35a692aafb5e"
   },
   "outputs": [
    {
     "name": "stdout",
     "output_type": "stream",
     "text": [
      "[[5736  572]\n",
      " [ 449 5743]]\n",
      "              precision    recall  f1-score   support\n",
      "\n",
      "           0       0.93      0.91      0.92      6308\n",
      "           1       0.91      0.93      0.92      6192\n",
      "\n",
      "    accuracy                           0.92     12500\n",
      "   macro avg       0.92      0.92      0.92     12500\n",
      "weighted avg       0.92      0.92      0.92     12500\n",
      "\n",
      "0.91832\n"
     ]
    }
   ],
   "source": [
    "from sklearn.metrics import classification_report, confusion_matrix, accuracy_score\n",
    "\n",
    "print(confusion_matrix(test_y,pred_y))\n",
    "print(classification_report(test_y,pred_y))\n",
    "print(accuracy_score(test_y, pred_y))"
   ]
  },
  {
   "cell_type": "markdown",
   "metadata": {
    "colab_type": "text",
    "id": "SAcNCnVtqk7e"
   },
   "source": [
    "\n",
    "BERT acheived 91% for unseen data which is very impressive. \n",
    "\n",
    "Drawback on BERT: \n",
    "- While BERT’s performance is impressive, it is comparatively slow in terms of both training and inference (i.e., predictions on new data).\n"
   ]
  },
  {
   "cell_type": "code",
   "execution_count": 0,
   "metadata": {
    "colab": {},
    "colab_type": "code",
    "id": "yZ8AVwBI-bD4"
   },
   "outputs": [],
   "source": []
  }
 ],
 "metadata": {
  "accelerator": "GPU",
  "colab": {
   "collapsed_sections": [],
   "machine_shape": "hm",
   "name": "Copy_of_Hoi_Wan_LIU_Final_Assignment__IMDB_with_multiple_models_handout.ipynb",
   "provenance": [],
   "toc_visible": true
  },
  "kernelspec": {
   "display_name": "Python 3",
   "language": "python",
   "name": "python3"
  },
  "language_info": {
   "codemirror_mode": {
    "name": "ipython",
    "version": 3
   },
   "file_extension": ".py",
   "mimetype": "text/x-python",
   "name": "python",
   "nbconvert_exporter": "python",
   "pygments_lexer": "ipython3",
   "version": "3.7.3"
  },
  "varInspector": {
   "cols": {
    "lenName": 16,
    "lenType": 16,
    "lenVar": 40
   },
   "kernels_config": {
    "python": {
     "delete_cmd_postfix": "",
     "delete_cmd_prefix": "del ",
     "library": "var_list.py",
     "varRefreshCmd": "print(var_dic_list())"
    },
    "r": {
     "delete_cmd_postfix": ") ",
     "delete_cmd_prefix": "rm(",
     "library": "var_list.r",
     "varRefreshCmd": "cat(var_dic_list()) "
    }
   },
   "types_to_exclude": [
    "module",
    "function",
    "builtin_function_or_method",
    "instance",
    "_Feature"
   ],
   "window_display": false
  }
 },
 "nbformat": 4,
 "nbformat_minor": 1
}
